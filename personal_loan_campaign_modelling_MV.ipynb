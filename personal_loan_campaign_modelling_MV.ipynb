{
 "cells": [
  {
   "cell_type": "markdown",
   "metadata": {},
   "source": [
    "### Project: Problem Statement - Personal Loan Campaign Modelling"
   ]
  },
  {
   "cell_type": "markdown",
   "metadata": {},
   "source": [
    "# Thera Bank Personal Loan Campaign"
   ]
  },
  {
   "cell_type": "markdown",
   "metadata": {},
   "source": [
    "### Data Descritpion:"
   ]
  },
  {
   "cell_type": "markdown",
   "metadata": {},
   "source": [
    "The dataset contains data on 5000 customers. The data include customer demographic information (age, income, etc.), the customer's relationship with the bank (mortgage, securities account, etc.), and the customer response to the last personal loan campaign (Personal Loan). Among these 5000 customers, only 480 (= 9.6%) accepted the personal loan that was offered to them in the earlier campaign."
   ]
  },
  {
   "cell_type": "markdown",
   "metadata": {},
   "source": [
    "### Domain:"
   ]
  },
  {
   "cell_type": "markdown",
   "metadata": {},
   "source": [
    "Banking"
   ]
  },
  {
   "cell_type": "markdown",
   "metadata": {},
   "source": [
    "### Context: "
   ]
  },
  {
   "cell_type": "markdown",
   "metadata": {},
   "source": [
    "This case is about a bank (Thera Bank) whose management wants to explore ways of converting its liability customers to personal loan customers (while retaining them as depositors). A campaign that the bank ran last year for liability customers showed a healthy conversion rate of over 9% success. This has encouraged the retail marketing department to devise campaigns with better target marketing to increase the success ratio with a minimal budget."
   ]
  },
  {
   "cell_type": "markdown",
   "metadata": {},
   "source": [
    "### Attribute Information: "
   ]
  },
  {
   "cell_type": "markdown",
   "metadata": {},
   "source": [
    "* ID: Customer ID\n",
    "* Age: Customer,s age in completed years\n",
    "* Experience: #years of professional experince\n",
    "* Income: Annual income of the customer(\\$000)\n",
    "* ZIP Code: Home Address ZIP\n",
    "* Family: Family size of the customer\n",
    "* CCAvg: Avg. spending on credit cards per month(\\$000)\n",
    "* Education: Education level. 1: Undergraduate; 2: Graduate; 3. Advanced/Professional;\n",
    "* Mortgage: Valueof house mortgage if any(\\$000)\n",
    "* Personal loan: Did this customer accept the personal loan offered in the last campaign?\n",
    "* Securities Account: Does the customer have a securities account with the bank?\n",
    "* CD Account: Doeas the customer have a certificate of deposit (CD) account with the bank?\n",
    "* Online: Does the customer use internet banking facilities?\n",
    "* Credit card: Does the customer use a credit card issued by the bank?"
   ]
  },
  {
   "cell_type": "markdown",
   "metadata": {},
   "source": [
    "### Objective:"
   ]
  },
  {
   "cell_type": "markdown",
   "metadata": {},
   "source": [
    "The classification goal is to predict the likelihood of a liability customer buying personal loans."
   ]
  },
  {
   "cell_type": "markdown",
   "metadata": {},
   "source": [
    "## Stepts and tasks:"
   ]
  },
  {
   "cell_type": "markdown",
   "metadata": {},
   "source": [
    "### 1. Import the datasets and libraries, check datatype, statistical summary, shape, null values or incorrect imputation. (5 marks)"
   ]
  },
  {
   "cell_type": "code",
   "execution_count": 88,
   "metadata": {},
   "outputs": [],
   "source": [
    "import warnings\n",
    "warnings.filterwarnings('ignore')"
   ]
  },
  {
   "cell_type": "code",
   "execution_count": 130,
   "metadata": {},
   "outputs": [],
   "source": [
    "import numpy as np\n",
    "import math\n",
    "import pandas as pd\n",
    "import matplotlib.pyplot as plt\n",
    "import seaborn as sns\n",
    "sns.set(color_codes=True)\n",
    "from sklearn.model_selection import train_test_split\n",
    "from sklearn.linear_model import LogisticRegression\n",
    "from sklearn import metrics\n"
   ]
  },
  {
   "cell_type": "code",
   "execution_count": 18,
   "metadata": {},
   "outputs": [
    {
     "data": {
      "text/html": [
       "<div>\n",
       "<style scoped>\n",
       "    .dataframe tbody tr th:only-of-type {\n",
       "        vertical-align: middle;\n",
       "    }\n",
       "\n",
       "    .dataframe tbody tr th {\n",
       "        vertical-align: top;\n",
       "    }\n",
       "\n",
       "    .dataframe thead th {\n",
       "        text-align: right;\n",
       "    }\n",
       "</style>\n",
       "<table border=\"1\" class=\"dataframe\">\n",
       "  <thead>\n",
       "    <tr style=\"text-align: right;\">\n",
       "      <th></th>\n",
       "      <th>ID</th>\n",
       "      <th>Age</th>\n",
       "      <th>Experience</th>\n",
       "      <th>Income</th>\n",
       "      <th>ZIP Code</th>\n",
       "      <th>Family</th>\n",
       "      <th>CCAvg</th>\n",
       "      <th>Education</th>\n",
       "      <th>Mortgage</th>\n",
       "      <th>Personal Loan</th>\n",
       "      <th>Securities Account</th>\n",
       "      <th>CD Account</th>\n",
       "      <th>Online</th>\n",
       "      <th>CreditCard</th>\n",
       "    </tr>\n",
       "  </thead>\n",
       "  <tbody>\n",
       "    <tr>\n",
       "      <th>0</th>\n",
       "      <td>1</td>\n",
       "      <td>25</td>\n",
       "      <td>1</td>\n",
       "      <td>49</td>\n",
       "      <td>91107</td>\n",
       "      <td>4</td>\n",
       "      <td>1.6</td>\n",
       "      <td>1</td>\n",
       "      <td>0</td>\n",
       "      <td>0</td>\n",
       "      <td>1</td>\n",
       "      <td>0</td>\n",
       "      <td>0</td>\n",
       "      <td>0</td>\n",
       "    </tr>\n",
       "    <tr>\n",
       "      <th>1</th>\n",
       "      <td>2</td>\n",
       "      <td>45</td>\n",
       "      <td>19</td>\n",
       "      <td>34</td>\n",
       "      <td>90089</td>\n",
       "      <td>3</td>\n",
       "      <td>1.5</td>\n",
       "      <td>1</td>\n",
       "      <td>0</td>\n",
       "      <td>0</td>\n",
       "      <td>1</td>\n",
       "      <td>0</td>\n",
       "      <td>0</td>\n",
       "      <td>0</td>\n",
       "    </tr>\n",
       "    <tr>\n",
       "      <th>2</th>\n",
       "      <td>3</td>\n",
       "      <td>39</td>\n",
       "      <td>15</td>\n",
       "      <td>11</td>\n",
       "      <td>94720</td>\n",
       "      <td>1</td>\n",
       "      <td>1.0</td>\n",
       "      <td>1</td>\n",
       "      <td>0</td>\n",
       "      <td>0</td>\n",
       "      <td>0</td>\n",
       "      <td>0</td>\n",
       "      <td>0</td>\n",
       "      <td>0</td>\n",
       "    </tr>\n",
       "    <tr>\n",
       "      <th>3</th>\n",
       "      <td>4</td>\n",
       "      <td>35</td>\n",
       "      <td>9</td>\n",
       "      <td>100</td>\n",
       "      <td>94112</td>\n",
       "      <td>1</td>\n",
       "      <td>2.7</td>\n",
       "      <td>2</td>\n",
       "      <td>0</td>\n",
       "      <td>0</td>\n",
       "      <td>0</td>\n",
       "      <td>0</td>\n",
       "      <td>0</td>\n",
       "      <td>0</td>\n",
       "    </tr>\n",
       "    <tr>\n",
       "      <th>4</th>\n",
       "      <td>5</td>\n",
       "      <td>35</td>\n",
       "      <td>8</td>\n",
       "      <td>45</td>\n",
       "      <td>91330</td>\n",
       "      <td>4</td>\n",
       "      <td>1.0</td>\n",
       "      <td>2</td>\n",
       "      <td>0</td>\n",
       "      <td>0</td>\n",
       "      <td>0</td>\n",
       "      <td>0</td>\n",
       "      <td>0</td>\n",
       "      <td>1</td>\n",
       "    </tr>\n",
       "  </tbody>\n",
       "</table>\n",
       "</div>"
      ],
      "text/plain": [
       "   ID  Age  Experience  Income  ZIP Code  Family  CCAvg  Education  Mortgage  \\\n",
       "0   1   25           1      49     91107       4    1.6          1         0   \n",
       "1   2   45          19      34     90089       3    1.5          1         0   \n",
       "2   3   39          15      11     94720       1    1.0          1         0   \n",
       "3   4   35           9     100     94112       1    2.7          2         0   \n",
       "4   5   35           8      45     91330       4    1.0          2         0   \n",
       "\n",
       "   Personal Loan  Securities Account  CD Account  Online  CreditCard  \n",
       "0              0                   1           0       0           0  \n",
       "1              0                   1           0       0           0  \n",
       "2              0                   0           0       0           0  \n",
       "3              0                   0           0       0           0  \n",
       "4              0                   0           0       0           1  "
      ]
     },
     "execution_count": 18,
     "metadata": {},
     "output_type": "execute_result"
    }
   ],
   "source": [
    "df=pd.read_csv('Bank_Personal_Loan_Modelling.csv')\n",
    "df.head(5)"
   ]
  },
  {
   "cell_type": "code",
   "execution_count": 19,
   "metadata": {},
   "outputs": [
    {
     "data": {
      "text/plain": [
       "Index(['ID', 'Age', 'Experience', 'Income', 'ZIP_code', 'Family', 'CCAvg',\n",
       "       'Education', 'Mortgage', 'Personal_loan', 'Securities_account',\n",
       "       'CD_account', 'Online', 'CreditCard'],\n",
       "      dtype='object')"
      ]
     },
     "execution_count": 19,
     "metadata": {},
     "output_type": "execute_result"
    }
   ],
   "source": [
    "#renaming some of the columns name to minimize possibility of missinterpretation of name\n",
    "df.rename({'ZIP Code': 'ZIP_code','Personal Loan': 'Personal_loan', 'Securities Account': 'Securities_account', 'CD Account': 'CD_account'}, axis=1, inplace=True)\n",
    "df.columns"
   ]
  },
  {
   "cell_type": "code",
   "execution_count": 20,
   "metadata": {},
   "outputs": [
    {
     "data": {
      "text/plain": [
       "ID                      int64\n",
       "Age                     int64\n",
       "Experience              int64\n",
       "Income                  int64\n",
       "ZIP_code                int64\n",
       "Family                  int64\n",
       "CCAvg                 float64\n",
       "Education               int64\n",
       "Mortgage                int64\n",
       "Personal_loan           int64\n",
       "Securities_account      int64\n",
       "CD_account              int64\n",
       "Online                  int64\n",
       "CreditCard              int64\n",
       "dtype: object"
      ]
     },
     "execution_count": 20,
     "metadata": {},
     "output_type": "execute_result"
    }
   ],
   "source": [
    "df.dtypes"
   ]
  },
  {
   "cell_type": "markdown",
   "metadata": {},
   "source": [
    "All but one varible in a dataframe are of int64 type and only one - CCAvg is float datatype. All are numerical, however, Education, Mortgage, Personal loan, Securities Account, CD Account Online and CreditCard are dummy variables. Even though ZIP code is numerical Int64 variable, it may be considered as categorical since the ZIP code represent certain city/place and has no other numerical meaning. "
   ]
  },
  {
   "cell_type": "markdown",
   "metadata": {},
   "source": [
    "* Some of the  dummy variables should be converted into categorical data type:"
   ]
  },
  {
   "cell_type": "code",
   "execution_count": 21,
   "metadata": {},
   "outputs": [
    {
     "data": {
      "text/plain": [
       "ID                       int64\n",
       "Age                      int64\n",
       "Experience               int64\n",
       "Income                   int64\n",
       "ZIP_code                 int64\n",
       "Family                   int64\n",
       "CCAvg                  float64\n",
       "Education             category\n",
       "Mortgage                 int64\n",
       "Personal_loan         category\n",
       "Securities_account    category\n",
       "CD_account            category\n",
       "Online                category\n",
       "CreditCard            category\n",
       "dtype: object"
      ]
     },
     "execution_count": 21,
     "metadata": {},
     "output_type": "execute_result"
    }
   ],
   "source": [
    "categorical=['Education', 'Personal_loan', \n",
    "             'Securities_account', \n",
    "             'CD_account', 'Online',\n",
    "            'CreditCard']\n",
    "for i in categorical:\n",
    "    df[i]=df[i].astype('category') #changing data types to category for those in a list above\n",
    "df.dtypes #checking if the dtype has been changed "
   ]
  },
  {
   "cell_type": "code",
   "execution_count": 22,
   "metadata": {},
   "outputs": [
    {
     "data": {
      "text/html": [
       "<div>\n",
       "<style scoped>\n",
       "    .dataframe tbody tr th:only-of-type {\n",
       "        vertical-align: middle;\n",
       "    }\n",
       "\n",
       "    .dataframe tbody tr th {\n",
       "        vertical-align: top;\n",
       "    }\n",
       "\n",
       "    .dataframe thead th {\n",
       "        text-align: right;\n",
       "    }\n",
       "</style>\n",
       "<table border=\"1\" class=\"dataframe\">\n",
       "  <thead>\n",
       "    <tr style=\"text-align: right;\">\n",
       "      <th></th>\n",
       "      <th>count</th>\n",
       "      <th>mean</th>\n",
       "      <th>std</th>\n",
       "      <th>min</th>\n",
       "      <th>25%</th>\n",
       "      <th>50%</th>\n",
       "      <th>75%</th>\n",
       "      <th>max</th>\n",
       "    </tr>\n",
       "  </thead>\n",
       "  <tbody>\n",
       "    <tr>\n",
       "      <th>Age</th>\n",
       "      <td>5000.0</td>\n",
       "      <td>45.338400</td>\n",
       "      <td>11.463166</td>\n",
       "      <td>23.0</td>\n",
       "      <td>35.0</td>\n",
       "      <td>45.0</td>\n",
       "      <td>55.0</td>\n",
       "      <td>67.0</td>\n",
       "    </tr>\n",
       "    <tr>\n",
       "      <th>Experience</th>\n",
       "      <td>5000.0</td>\n",
       "      <td>20.104600</td>\n",
       "      <td>11.467954</td>\n",
       "      <td>-3.0</td>\n",
       "      <td>10.0</td>\n",
       "      <td>20.0</td>\n",
       "      <td>30.0</td>\n",
       "      <td>43.0</td>\n",
       "    </tr>\n",
       "    <tr>\n",
       "      <th>Income</th>\n",
       "      <td>5000.0</td>\n",
       "      <td>73.774200</td>\n",
       "      <td>46.033729</td>\n",
       "      <td>8.0</td>\n",
       "      <td>39.0</td>\n",
       "      <td>64.0</td>\n",
       "      <td>98.0</td>\n",
       "      <td>224.0</td>\n",
       "    </tr>\n",
       "    <tr>\n",
       "      <th>Family</th>\n",
       "      <td>5000.0</td>\n",
       "      <td>2.396400</td>\n",
       "      <td>1.147663</td>\n",
       "      <td>1.0</td>\n",
       "      <td>1.0</td>\n",
       "      <td>2.0</td>\n",
       "      <td>3.0</td>\n",
       "      <td>4.0</td>\n",
       "    </tr>\n",
       "    <tr>\n",
       "      <th>CCAvg</th>\n",
       "      <td>5000.0</td>\n",
       "      <td>1.937938</td>\n",
       "      <td>1.747659</td>\n",
       "      <td>0.0</td>\n",
       "      <td>0.7</td>\n",
       "      <td>1.5</td>\n",
       "      <td>2.5</td>\n",
       "      <td>10.0</td>\n",
       "    </tr>\n",
       "    <tr>\n",
       "      <th>Mortgage</th>\n",
       "      <td>5000.0</td>\n",
       "      <td>56.498800</td>\n",
       "      <td>101.713802</td>\n",
       "      <td>0.0</td>\n",
       "      <td>0.0</td>\n",
       "      <td>0.0</td>\n",
       "      <td>101.0</td>\n",
       "      <td>635.0</td>\n",
       "    </tr>\n",
       "  </tbody>\n",
       "</table>\n",
       "</div>"
      ],
      "text/plain": [
       "             count       mean         std   min   25%   50%    75%    max\n",
       "Age         5000.0  45.338400   11.463166  23.0  35.0  45.0   55.0   67.0\n",
       "Experience  5000.0  20.104600   11.467954  -3.0  10.0  20.0   30.0   43.0\n",
       "Income      5000.0  73.774200   46.033729   8.0  39.0  64.0   98.0  224.0\n",
       "Family      5000.0   2.396400    1.147663   1.0   1.0   2.0    3.0    4.0\n",
       "CCAvg       5000.0   1.937938    1.747659   0.0   0.7   1.5    2.5   10.0\n",
       "Mortgage    5000.0  56.498800  101.713802   0.0   0.0   0.0  101.0  635.0"
      ]
     },
     "execution_count": 22,
     "metadata": {},
     "output_type": "execute_result"
    }
   ],
   "source": [
    "col_list=(df.columns[1:].tolist())\n",
    "col_list.remove('ZIP_code')\n",
    "df[col_list].describe().T #basic statistics on applicable columns"
   ]
  },
  {
   "cell_type": "markdown",
   "metadata": {},
   "source": [
    "Statistical summary has been done on some of the columns, since it makes no sense on the others (e.g. ID, ZIP codes and dummy varibales on far right side of dataframe)\n",
    "* Min age is 23 years, max 67. Median and mean values are almost the same (one being 45.0 and the other 45.3384). It may indicate symetrical distribution of ages among clients.\n",
    "* Min value for experience is -3.0 which is, almost certanly, wrong value and should be 3.0, max value is 43.0 years, mean and mode are again close to each other, which suggest the same cocnlusion as for the age varibale. std deviation is 11.46 years.\n",
    "* spread of income varibale is much greater then previous two - max value is 224 and min is 8.0. Mean value is slightly greater then median, which might indicate slight right skewness.\n",
    "* Mortgage has much greater mean value compared to median (which is 0), so distribution might be positive/right skewed\n",
    "\n",
    "\n",
    "\n"
   ]
  },
  {
   "cell_type": "code",
   "execution_count": 23,
   "metadata": {},
   "outputs": [
    {
     "data": {
      "text/plain": [
       "(5000, 14)"
      ]
     },
     "execution_count": 23,
     "metadata": {},
     "output_type": "execute_result"
    }
   ],
   "source": [
    "df.shape"
   ]
  },
  {
   "cell_type": "markdown",
   "metadata": {},
   "source": [
    "- df has 5000 rows (cases) and 14 columns(variables/attributes)"
   ]
  },
  {
   "cell_type": "code",
   "execution_count": 24,
   "metadata": {},
   "outputs": [
    {
     "data": {
      "text/plain": [
       "ID                    False\n",
       "Age                   False\n",
       "Experience            False\n",
       "Income                False\n",
       "ZIP_code              False\n",
       "Family                False\n",
       "CCAvg                 False\n",
       "Education             False\n",
       "Mortgage              False\n",
       "Personal_loan         False\n",
       "Securities_account    False\n",
       "CD_account            False\n",
       "Online                False\n",
       "CreditCard            False\n",
       "dtype: bool"
      ]
     },
     "execution_count": 24,
     "metadata": {},
     "output_type": "execute_result"
    }
   ],
   "source": [
    "df.isnull().any()"
   ]
  },
  {
   "cell_type": "markdown",
   "metadata": {},
   "source": [
    "- There are no null values in dataframe"
   ]
  },
  {
   "cell_type": "code",
   "execution_count": 25,
   "metadata": {},
   "outputs": [
    {
     "name": "stdout",
     "output_type": "stream",
     "text": [
      "Number of inputs whit negative years of experience is 52.\n"
     ]
    }
   ],
   "source": [
    "print('Number of inputs whit negative years of experience is %d.' % (df[df['Experience']<0].shape[0]))"
   ]
  },
  {
   "cell_type": "markdown",
   "metadata": {},
   "source": [
    "Since there were -3.0 identified as minimum for experience, the check have been run to identify how many of entries are there with negative years of experience. The result showed there are 52 such entries which might be considered as incorrect."
   ]
  },
  {
   "cell_type": "markdown",
   "metadata": {},
   "source": [
    "### 2. EDA: Study the data distribution in each attribute and target variable, share your findings\n",
    "\n",
    "* Number of unique in each column\n",
    "* Number of people with zero mortgage\n",
    "* Number of people with zero credit card spendingper month\n",
    "* Value counts of all categorical columns\n",
    "* Univariate and Bivariate\n",
    "* Get data model ready"
   ]
  },
  {
   "cell_type": "markdown",
   "metadata": {},
   "source": [
    "#### 2.1 Number of unique in each column"
   ]
  },
  {
   "cell_type": "code",
   "execution_count": 26,
   "metadata": {},
   "outputs": [
    {
     "name": "stdout",
     "output_type": "stream",
     "text": [
      "Number of unique values in ID column is 5000\n",
      "Number of unique values in Age column is 45\n",
      "Number of unique values in Experience column is 47\n",
      "Number of unique values in Income column is 162\n",
      "Number of unique values in ZIP_code column is 467\n",
      "Number of unique values in Family column is 4\n",
      "Number of unique values in CCAvg column is 108\n",
      "Number of unique values in Education column is 3\n",
      "Number of unique values in Mortgage column is 347\n",
      "Number of unique values in Personal_loan column is 2\n",
      "Number of unique values in Securities_account column is 2\n",
      "Number of unique values in CD_account column is 2\n",
      "Number of unique values in Online column is 2\n",
      "Number of unique values in CreditCard column is 2\n"
     ]
    }
   ],
   "source": [
    "for i in df.columns:\n",
    "    print('Number of unique values in %s column is %d'%(i, len(df[i].unique())))"
   ]
  },
  {
   "cell_type": "markdown",
   "metadata": {},
   "source": [
    "Some of the columns have only 2 unique values. It has been expected since those are dummy varibales - Personal_loan, Securities_account, CD_Account, Online, CreditCard. Those are all varibales answering to the question with YES or NO. Educiation has 3 unique values as expected. Family column, although not a dummy varibale in a sense there are no categories of families but rather the number of family members (a real quantitative variable), it has only four unique values. It is interesting to notice the ZIP column have 467 unique values. It may be possible to reduce number of unique values if the ZIP codes would be grouped based on first two or three digits. In any case, it is a categorical variable, number has no other meaning but giving the location. "
   ]
  },
  {
   "cell_type": "markdown",
   "metadata": {},
   "source": [
    "#### 2.2 Number of people with zero mortgage"
   ]
  },
  {
   "cell_type": "code",
   "execution_count": 27,
   "metadata": {},
   "outputs": [
    {
     "name": "stdout",
     "output_type": "stream",
     "text": [
      "Number of people with zero mortgage is 3462.\n"
     ]
    }
   ],
   "source": [
    "print ('Number of people with zero mortgage is %d.' % (len(df[df['Mortgage']==0]['ID'].unique())))"
   ]
  },
  {
   "cell_type": "markdown",
   "metadata": {},
   "source": [
    "#### 2.3 Number of people with zero credit card spending per month"
   ]
  },
  {
   "cell_type": "code",
   "execution_count": 28,
   "metadata": {},
   "outputs": [
    {
     "name": "stdout",
     "output_type": "stream",
     "text": [
      "- total number of people with zero credit card spending per month is 106;\n",
      "- number of people with zero credit card spending per month who have credit card is 28.\n"
     ]
    }
   ],
   "source": [
    "print('- total number of people with zero credit card spending per month is %d;'%(len(df[df['CCAvg']==0]['ID'])))\n",
    "print('- number of people with zero credit card spending per month who have credit card is %d.'%(df[(df['CCAvg']==0) & (df['CreditCard']==1)]['ID'].shape[0]))"
   ]
  },
  {
   "cell_type": "markdown",
   "metadata": {},
   "source": [
    "#### 2.4 Value counts of all categorical columns "
   ]
  },
  {
   "cell_type": "code",
   "execution_count": 29,
   "metadata": {},
   "outputs": [
    {
     "name": "stdout",
     "output_type": "stream",
     "text": [
      "--------------------------------------\n",
      "Number of each value in Education column is\n",
      "1    2096\n",
      "3    1501\n",
      "2    1403\n",
      "Name: Education, dtype: int64\n",
      "Percentage of each value is\n",
      "1    41.92\n",
      "3    30.02\n",
      "2    28.06\n",
      "Name: Education, dtype: float64\n",
      "--------------------------------------\n",
      "--------------------------------------\n",
      "Number of each value in Personal_loan column is\n",
      "0    4520\n",
      "1     480\n",
      "Name: Personal_loan, dtype: int64\n",
      "Percentage of each value is\n",
      "0    90.4\n",
      "1     9.6\n",
      "Name: Personal_loan, dtype: float64\n",
      "--------------------------------------\n",
      "--------------------------------------\n",
      "Number of each value in Securities_account column is\n",
      "0    4478\n",
      "1     522\n",
      "Name: Securities_account, dtype: int64\n",
      "Percentage of each value is\n",
      "0    89.56\n",
      "1    10.44\n",
      "Name: Securities_account, dtype: float64\n",
      "--------------------------------------\n",
      "--------------------------------------\n",
      "Number of each value in CD_account column is\n",
      "0    4698\n",
      "1     302\n",
      "Name: CD_account, dtype: int64\n",
      "Percentage of each value is\n",
      "0    93.96\n",
      "1     6.04\n",
      "Name: CD_account, dtype: float64\n",
      "--------------------------------------\n",
      "--------------------------------------\n",
      "Number of each value in Online column is\n",
      "1    2984\n",
      "0    2016\n",
      "Name: Online, dtype: int64\n",
      "Percentage of each value is\n",
      "1    59.68\n",
      "0    40.32\n",
      "Name: Online, dtype: float64\n",
      "--------------------------------------\n",
      "--------------------------------------\n",
      "Number of each value in CreditCard column is\n",
      "0    3530\n",
      "1    1470\n",
      "Name: CreditCard, dtype: int64\n",
      "Percentage of each value is\n",
      "0    70.6\n",
      "1    29.4\n",
      "Name: CreditCard, dtype: float64\n",
      "--------------------------------------\n"
     ]
    }
   ],
   "source": [
    "categorical=['Education', 'Personal_loan', \n",
    "             'Securities_account', \n",
    "             'CD_account', 'Online',\n",
    "            'CreditCard']\n",
    "for i in categorical:\n",
    "    print('--------------------------------------')\n",
    "    print ('Number of each value in %s column is' % (i) )\n",
    "    print(df[i].value_counts())\n",
    "    print ('Percentage of each value is')\n",
    "    print(100*(df[i].value_counts()/df[i].value_counts().sum()))\n",
    "    print('--------------------------------------')"
   ]
  },
  {
   "cell_type": "markdown",
   "metadata": {},
   "source": [
    "Most of categories are imbalanced, e.g. Securities_account, CD_account and Personal_loan are highly imbalanced. Personal_loan is of particular interest, since it is our targeted categorical value."
   ]
  },
  {
   "cell_type": "markdown",
   "metadata": {},
   "source": [
    "#### 2.5 Univariate and bivariate"
   ]
  },
  {
   "cell_type": "code",
   "execution_count": 30,
   "metadata": {},
   "outputs": [
    {
     "data": {
      "image/png": "[encoded data removed]",
      "text/plain": [
       "<Figure size 1440x1080 with 6 Axes>"
      ]
     },
     "metadata": {},
     "output_type": "display_data"
    }
   ],
   "source": [
    "fig, axs=plt.subplots(nrows=3, ncols=2, figsize=(20,15))\n",
    "row=0\n",
    "col=0\n",
    "for i in ['Age', 'Experience', 'Income', 'Family', 'CCAvg',\n",
    "       'Mortgage']:\n",
    "    sns.histplot(df[i],ax=axs[row][col], kde=True)\n",
    "    if col==1:\n",
    "        row=row+1\n",
    "        col=0\n",
    "    else:\n",
    "        col=col+1"
   ]
  },
  {
   "cell_type": "markdown",
   "metadata": {},
   "source": [
    "It can be easily seen the income is positively/right skewed. The same is with CCAvg. Age and experinece follows similar distribution. Majority of the clients has no mortage. Families are fairly evenly distributed, with most of them having only 1 member, and least of them having 3 members. "
   ]
  },
  {
   "cell_type": "code",
   "execution_count": 31,
   "metadata": {},
   "outputs": [
    {
     "data": {
      "text/plain": [
       "<AxesSubplot:>"
      ]
     },
     "execution_count": 31,
     "metadata": {},
     "output_type": "execute_result"
    },
    {
     "data": {
      "image/png": "[encoded data removed]",
      "text/plain": [
       "<Figure size 1080x1080 with 2 Axes>"
      ]
     },
     "metadata": {},
     "output_type": "display_data"
    }
   ],
   "source": [
    "fig, ax=plt.subplots(figsize=(15,15))\n",
    "sns.heatmap(df.corr(), annot=True, center=0, linewidths=0.5)"
   ]
  },
  {
   "cell_type": "markdown",
   "metadata": {},
   "source": [
    "From correlation heatmap (where the color codes are centered around 0) it can be easily seen that experiennce and age are highly correlated. Average spending on a credit card is fairly corrleated with income, but for the rest, the correlation is low or practicaly non existent. From logistic regression training perspective, there is no point of using experience and age togehter, because those two varibales could not be considered as independent. "
   ]
  },
  {
   "cell_type": "code",
   "execution_count": 32,
   "metadata": {},
   "outputs": [
    {
     "data": {
      "text/html": [
       "<div>\n",
       "<style scoped>\n",
       "    .dataframe tbody tr th:only-of-type {\n",
       "        vertical-align: middle;\n",
       "    }\n",
       "\n",
       "    .dataframe tbody tr th {\n",
       "        vertical-align: top;\n",
       "    }\n",
       "\n",
       "    .dataframe thead th {\n",
       "        text-align: right;\n",
       "    }\n",
       "</style>\n",
       "<table border=\"1\" class=\"dataframe\">\n",
       "  <thead>\n",
       "    <tr style=\"text-align: right;\">\n",
       "      <th></th>\n",
       "      <th>ID</th>\n",
       "      <th>Age</th>\n",
       "      <th>Experience</th>\n",
       "      <th>Income</th>\n",
       "      <th>ZIP_code</th>\n",
       "      <th>Family</th>\n",
       "      <th>CCAvg</th>\n",
       "      <th>Mortgage</th>\n",
       "    </tr>\n",
       "    <tr>\n",
       "      <th>Personal_loan</th>\n",
       "      <th></th>\n",
       "      <th></th>\n",
       "      <th></th>\n",
       "      <th></th>\n",
       "      <th></th>\n",
       "      <th></th>\n",
       "      <th></th>\n",
       "      <th></th>\n",
       "    </tr>\n",
       "  </thead>\n",
       "  <tbody>\n",
       "    <tr>\n",
       "      <th>0</th>\n",
       "      <td>2512.165487</td>\n",
       "      <td>45.367257</td>\n",
       "      <td>20.132301</td>\n",
       "      <td>66.237389</td>\n",
       "      <td>93152.428761</td>\n",
       "      <td>2.373451</td>\n",
       "      <td>1.729009</td>\n",
       "      <td>51.789381</td>\n",
       "    </tr>\n",
       "    <tr>\n",
       "      <th>1</th>\n",
       "      <td>2390.650000</td>\n",
       "      <td>45.066667</td>\n",
       "      <td>19.843750</td>\n",
       "      <td>144.745833</td>\n",
       "      <td>93153.202083</td>\n",
       "      <td>2.612500</td>\n",
       "      <td>3.905354</td>\n",
       "      <td>100.845833</td>\n",
       "    </tr>\n",
       "  </tbody>\n",
       "</table>\n",
       "</div>"
      ],
      "text/plain": [
       "                        ID        Age  Experience      Income      ZIP_code  \\\n",
       "Personal_loan                                                                 \n",
       "0              2512.165487  45.367257   20.132301   66.237389  93152.428761   \n",
       "1              2390.650000  45.066667   19.843750  144.745833  93153.202083   \n",
       "\n",
       "                 Family     CCAvg    Mortgage  \n",
       "Personal_loan                                  \n",
       "0              2.373451  1.729009   51.789381  \n",
       "1              2.612500  3.905354  100.845833  "
      ]
     },
     "execution_count": 32,
     "metadata": {},
     "output_type": "execute_result"
    }
   ],
   "source": [
    "df.groupby('Personal_loan').mean()"
   ]
  },
  {
   "cell_type": "code",
   "execution_count": 33,
   "metadata": {},
   "outputs": [
    {
     "data": {
      "text/html": [
       "<div>\n",
       "<style scoped>\n",
       "    .dataframe tbody tr th:only-of-type {\n",
       "        vertical-align: middle;\n",
       "    }\n",
       "\n",
       "    .dataframe tbody tr th {\n",
       "        vertical-align: top;\n",
       "    }\n",
       "\n",
       "    .dataframe thead th {\n",
       "        text-align: right;\n",
       "    }\n",
       "</style>\n",
       "<table border=\"1\" class=\"dataframe\">\n",
       "  <thead>\n",
       "    <tr style=\"text-align: right;\">\n",
       "      <th></th>\n",
       "      <th>ID</th>\n",
       "      <th>Age</th>\n",
       "      <th>Experience</th>\n",
       "      <th>Income</th>\n",
       "      <th>ZIP_code</th>\n",
       "      <th>Family</th>\n",
       "      <th>CCAvg</th>\n",
       "      <th>Mortgage</th>\n",
       "    </tr>\n",
       "    <tr>\n",
       "      <th>Personal_loan</th>\n",
       "      <th></th>\n",
       "      <th></th>\n",
       "      <th></th>\n",
       "      <th></th>\n",
       "      <th></th>\n",
       "      <th></th>\n",
       "      <th></th>\n",
       "      <th></th>\n",
       "    </tr>\n",
       "  </thead>\n",
       "  <tbody>\n",
       "    <tr>\n",
       "      <th>0</th>\n",
       "      <td>2518.5</td>\n",
       "      <td>45.0</td>\n",
       "      <td>20.0</td>\n",
       "      <td>59.0</td>\n",
       "      <td>93437.0</td>\n",
       "      <td>2.0</td>\n",
       "      <td>1.4</td>\n",
       "      <td>0.0</td>\n",
       "    </tr>\n",
       "    <tr>\n",
       "      <th>1</th>\n",
       "      <td>2342.0</td>\n",
       "      <td>45.0</td>\n",
       "      <td>20.0</td>\n",
       "      <td>142.5</td>\n",
       "      <td>93407.0</td>\n",
       "      <td>3.0</td>\n",
       "      <td>3.8</td>\n",
       "      <td>0.0</td>\n",
       "    </tr>\n",
       "  </tbody>\n",
       "</table>\n",
       "</div>"
      ],
      "text/plain": [
       "                   ID   Age  Experience  Income  ZIP_code  Family  CCAvg  \\\n",
       "Personal_loan                                                              \n",
       "0              2518.5  45.0        20.0    59.0   93437.0     2.0    1.4   \n",
       "1              2342.0  45.0        20.0   142.5   93407.0     3.0    3.8   \n",
       "\n",
       "               Mortgage  \n",
       "Personal_loan            \n",
       "0                   0.0  \n",
       "1                   0.0  "
      ]
     },
     "execution_count": 33,
     "metadata": {},
     "output_type": "execute_result"
    }
   ],
   "source": [
    "df.groupby('Personal_loan').median()"
   ]
  },
  {
   "cell_type": "markdown",
   "metadata": {},
   "source": [
    "* there is no differnece between customers who accepted loan during last campaign with regards to age, experience and family size, however, customers who, on averaege, earn more, spend more on credit card and have higher mortgage accepted the loan;\n",
    "* correlation between Personal_loan and Income, CCAvg or Mortgage was not high, probably due to highly imbalanced Personal_loan, however, when those variables  are grouped by Personal_loan there are clear differences between two classes of it;"
   ]
  },
  {
   "cell_type": "code",
   "execution_count": 94,
   "metadata": {},
   "outputs": [
    {
     "data": {
      "text/plain": [
       "<AxesSubplot:xlabel='Personal_loan', ylabel='count'>"
      ]
     },
     "execution_count": 94,
     "metadata": {},
     "output_type": "execute_result"
    },
    {
     "data": {
      "image/png": "[encoded data removed]",
      "text/plain": [
       "<Figure size 432x288 with 1 Axes>"
      ]
     },
     "metadata": {},
     "output_type": "display_data"
    }
   ],
   "source": [
    "sns. countplot(df['Personal_loan'], hue=df['Education'])"
   ]
  },
  {
   "cell_type": "markdown",
   "metadata": {},
   "source": [
    "Even though correlation is hard to establsihed on Personal_loan, most probably, because of unbalanced data, there are indications that peopel with lower education have less tendency to accept loan. "
   ]
  },
  {
   "cell_type": "markdown",
   "metadata": {},
   "source": [
    "#### 2.6 Get data model ready"
   ]
  },
  {
   "cell_type": "markdown",
   "metadata": {},
   "source": [
    "#### Grouping ZIP_codes to bins based on larger area (practicaly dividing it by 1000)"
   ]
  },
  {
   "cell_type": "code",
   "execution_count": 34,
   "metadata": {},
   "outputs": [
    {
     "data": {
      "text/plain": [
       "94720    169\n",
       "94305    127\n",
       "95616    116\n",
       "90095     71\n",
       "93106     57\n",
       "        ... \n",
       "96145      1\n",
       "94970      1\n",
       "94598      1\n",
       "90068      1\n",
       "94087      1\n",
       "Name: ZIP_code, Length: 467, dtype: int64"
      ]
     },
     "execution_count": 34,
     "metadata": {},
     "output_type": "execute_result"
    }
   ],
   "source": [
    "df['ZIP_code'].value_counts()"
   ]
  },
  {
   "cell_type": "code",
   "execution_count": 35,
   "metadata": {},
   "outputs": [
    {
     "data": {
      "text/plain": [
       "94    1472\n",
       "92     988\n",
       "95     815\n",
       "90     703\n",
       "91     565\n",
       "93     416\n",
       "96      40\n",
       "9        1\n",
       "Name: ZIP_code, dtype: int64"
      ]
     },
     "execution_count": 35,
     "metadata": {},
     "output_type": "execute_result"
    }
   ],
   "source": [
    "(divmod(df['ZIP_code'],1000)[0]).value_counts()"
   ]
  },
  {
   "cell_type": "code",
   "execution_count": 64,
   "metadata": {},
   "outputs": [],
   "source": [
    "df_modified=df.copy()"
   ]
  },
  {
   "cell_type": "code",
   "execution_count": 65,
   "metadata": {},
   "outputs": [],
   "source": [
    "df_modified['area']=divmod(df['ZIP_code'],1000)[0]\n",
    "#df_modified['area']=df.astype('category')\n"
   ]
  },
  {
   "cell_type": "code",
   "execution_count": 66,
   "metadata": {},
   "outputs": [],
   "source": [
    "df_modified=df_modified.drop(['ZIP_code'],axis=1)\n"
   ]
  },
  {
   "cell_type": "markdown",
   "metadata": {},
   "source": [
    "#### generating dummy variables out of Area, Education and Family"
   ]
  },
  {
   "cell_type": "code",
   "execution_count": 67,
   "metadata": {},
   "outputs": [],
   "source": [
    "df_modified=pd.get_dummies(data=df_modified, drop_first=True, prefix='Area', columns=['area'])\n",
    "df_modified=pd.get_dummies(data=df_modified, drop_first=True, prefix='Family', columns=['Family'])\n",
    "df_modified=pd.get_dummies(data=df_modified, drop_first=True, prefix='Education', columns=['Education'])"
   ]
  },
  {
   "cell_type": "code",
   "execution_count": 68,
   "metadata": {},
   "outputs": [
    {
     "data": {
      "text/html": [
       "<div>\n",
       "<style scoped>\n",
       "    .dataframe tbody tr th:only-of-type {\n",
       "        vertical-align: middle;\n",
       "    }\n",
       "\n",
       "    .dataframe tbody tr th {\n",
       "        vertical-align: top;\n",
       "    }\n",
       "\n",
       "    .dataframe thead th {\n",
       "        text-align: right;\n",
       "    }\n",
       "</style>\n",
       "<table border=\"1\" class=\"dataframe\">\n",
       "  <thead>\n",
       "    <tr style=\"text-align: right;\">\n",
       "      <th></th>\n",
       "      <th>ID</th>\n",
       "      <th>Age</th>\n",
       "      <th>Experience</th>\n",
       "      <th>Income</th>\n",
       "      <th>CCAvg</th>\n",
       "      <th>Mortgage</th>\n",
       "      <th>Personal_loan</th>\n",
       "      <th>Securities_account</th>\n",
       "      <th>CD_account</th>\n",
       "      <th>Online</th>\n",
       "      <th>...</th>\n",
       "      <th>Area_92</th>\n",
       "      <th>Area_93</th>\n",
       "      <th>Area_94</th>\n",
       "      <th>Area_95</th>\n",
       "      <th>Area_96</th>\n",
       "      <th>Family_2</th>\n",
       "      <th>Family_3</th>\n",
       "      <th>Family_4</th>\n",
       "      <th>Education_2</th>\n",
       "      <th>Education_3</th>\n",
       "    </tr>\n",
       "  </thead>\n",
       "  <tbody>\n",
       "    <tr>\n",
       "      <th>0</th>\n",
       "      <td>1</td>\n",
       "      <td>25</td>\n",
       "      <td>1</td>\n",
       "      <td>49</td>\n",
       "      <td>1.6</td>\n",
       "      <td>0</td>\n",
       "      <td>0</td>\n",
       "      <td>1</td>\n",
       "      <td>0</td>\n",
       "      <td>0</td>\n",
       "      <td>...</td>\n",
       "      <td>0</td>\n",
       "      <td>0</td>\n",
       "      <td>0</td>\n",
       "      <td>0</td>\n",
       "      <td>0</td>\n",
       "      <td>0</td>\n",
       "      <td>0</td>\n",
       "      <td>1</td>\n",
       "      <td>0</td>\n",
       "      <td>0</td>\n",
       "    </tr>\n",
       "    <tr>\n",
       "      <th>1</th>\n",
       "      <td>2</td>\n",
       "      <td>45</td>\n",
       "      <td>19</td>\n",
       "      <td>34</td>\n",
       "      <td>1.5</td>\n",
       "      <td>0</td>\n",
       "      <td>0</td>\n",
       "      <td>1</td>\n",
       "      <td>0</td>\n",
       "      <td>0</td>\n",
       "      <td>...</td>\n",
       "      <td>0</td>\n",
       "      <td>0</td>\n",
       "      <td>0</td>\n",
       "      <td>0</td>\n",
       "      <td>0</td>\n",
       "      <td>0</td>\n",
       "      <td>1</td>\n",
       "      <td>0</td>\n",
       "      <td>0</td>\n",
       "      <td>0</td>\n",
       "    </tr>\n",
       "    <tr>\n",
       "      <th>2</th>\n",
       "      <td>3</td>\n",
       "      <td>39</td>\n",
       "      <td>15</td>\n",
       "      <td>11</td>\n",
       "      <td>1.0</td>\n",
       "      <td>0</td>\n",
       "      <td>0</td>\n",
       "      <td>0</td>\n",
       "      <td>0</td>\n",
       "      <td>0</td>\n",
       "      <td>...</td>\n",
       "      <td>0</td>\n",
       "      <td>0</td>\n",
       "      <td>1</td>\n",
       "      <td>0</td>\n",
       "      <td>0</td>\n",
       "      <td>0</td>\n",
       "      <td>0</td>\n",
       "      <td>0</td>\n",
       "      <td>0</td>\n",
       "      <td>0</td>\n",
       "    </tr>\n",
       "    <tr>\n",
       "      <th>3</th>\n",
       "      <td>4</td>\n",
       "      <td>35</td>\n",
       "      <td>9</td>\n",
       "      <td>100</td>\n",
       "      <td>2.7</td>\n",
       "      <td>0</td>\n",
       "      <td>0</td>\n",
       "      <td>0</td>\n",
       "      <td>0</td>\n",
       "      <td>0</td>\n",
       "      <td>...</td>\n",
       "      <td>0</td>\n",
       "      <td>0</td>\n",
       "      <td>1</td>\n",
       "      <td>0</td>\n",
       "      <td>0</td>\n",
       "      <td>0</td>\n",
       "      <td>0</td>\n",
       "      <td>0</td>\n",
       "      <td>1</td>\n",
       "      <td>0</td>\n",
       "    </tr>\n",
       "    <tr>\n",
       "      <th>4</th>\n",
       "      <td>5</td>\n",
       "      <td>35</td>\n",
       "      <td>8</td>\n",
       "      <td>45</td>\n",
       "      <td>1.0</td>\n",
       "      <td>0</td>\n",
       "      <td>0</td>\n",
       "      <td>0</td>\n",
       "      <td>0</td>\n",
       "      <td>0</td>\n",
       "      <td>...</td>\n",
       "      <td>0</td>\n",
       "      <td>0</td>\n",
       "      <td>0</td>\n",
       "      <td>0</td>\n",
       "      <td>0</td>\n",
       "      <td>0</td>\n",
       "      <td>0</td>\n",
       "      <td>1</td>\n",
       "      <td>1</td>\n",
       "      <td>0</td>\n",
       "    </tr>\n",
       "    <tr>\n",
       "      <th>...</th>\n",
       "      <td>...</td>\n",
       "      <td>...</td>\n",
       "      <td>...</td>\n",
       "      <td>...</td>\n",
       "      <td>...</td>\n",
       "      <td>...</td>\n",
       "      <td>...</td>\n",
       "      <td>...</td>\n",
       "      <td>...</td>\n",
       "      <td>...</td>\n",
       "      <td>...</td>\n",
       "      <td>...</td>\n",
       "      <td>...</td>\n",
       "      <td>...</td>\n",
       "      <td>...</td>\n",
       "      <td>...</td>\n",
       "      <td>...</td>\n",
       "      <td>...</td>\n",
       "      <td>...</td>\n",
       "      <td>...</td>\n",
       "      <td>...</td>\n",
       "    </tr>\n",
       "    <tr>\n",
       "      <th>4995</th>\n",
       "      <td>4996</td>\n",
       "      <td>29</td>\n",
       "      <td>3</td>\n",
       "      <td>40</td>\n",
       "      <td>1.9</td>\n",
       "      <td>0</td>\n",
       "      <td>0</td>\n",
       "      <td>0</td>\n",
       "      <td>0</td>\n",
       "      <td>1</td>\n",
       "      <td>...</td>\n",
       "      <td>1</td>\n",
       "      <td>0</td>\n",
       "      <td>0</td>\n",
       "      <td>0</td>\n",
       "      <td>0</td>\n",
       "      <td>0</td>\n",
       "      <td>0</td>\n",
       "      <td>0</td>\n",
       "      <td>0</td>\n",
       "      <td>1</td>\n",
       "    </tr>\n",
       "    <tr>\n",
       "      <th>4996</th>\n",
       "      <td>4997</td>\n",
       "      <td>30</td>\n",
       "      <td>4</td>\n",
       "      <td>15</td>\n",
       "      <td>0.4</td>\n",
       "      <td>85</td>\n",
       "      <td>0</td>\n",
       "      <td>0</td>\n",
       "      <td>0</td>\n",
       "      <td>1</td>\n",
       "      <td>...</td>\n",
       "      <td>1</td>\n",
       "      <td>0</td>\n",
       "      <td>0</td>\n",
       "      <td>0</td>\n",
       "      <td>0</td>\n",
       "      <td>0</td>\n",
       "      <td>0</td>\n",
       "      <td>1</td>\n",
       "      <td>0</td>\n",
       "      <td>0</td>\n",
       "    </tr>\n",
       "    <tr>\n",
       "      <th>4997</th>\n",
       "      <td>4998</td>\n",
       "      <td>63</td>\n",
       "      <td>39</td>\n",
       "      <td>24</td>\n",
       "      <td>0.3</td>\n",
       "      <td>0</td>\n",
       "      <td>0</td>\n",
       "      <td>0</td>\n",
       "      <td>0</td>\n",
       "      <td>0</td>\n",
       "      <td>...</td>\n",
       "      <td>0</td>\n",
       "      <td>1</td>\n",
       "      <td>0</td>\n",
       "      <td>0</td>\n",
       "      <td>0</td>\n",
       "      <td>1</td>\n",
       "      <td>0</td>\n",
       "      <td>0</td>\n",
       "      <td>0</td>\n",
       "      <td>1</td>\n",
       "    </tr>\n",
       "    <tr>\n",
       "      <th>4998</th>\n",
       "      <td>4999</td>\n",
       "      <td>65</td>\n",
       "      <td>40</td>\n",
       "      <td>49</td>\n",
       "      <td>0.5</td>\n",
       "      <td>0</td>\n",
       "      <td>0</td>\n",
       "      <td>0</td>\n",
       "      <td>0</td>\n",
       "      <td>1</td>\n",
       "      <td>...</td>\n",
       "      <td>0</td>\n",
       "      <td>0</td>\n",
       "      <td>0</td>\n",
       "      <td>0</td>\n",
       "      <td>0</td>\n",
       "      <td>0</td>\n",
       "      <td>1</td>\n",
       "      <td>0</td>\n",
       "      <td>1</td>\n",
       "      <td>0</td>\n",
       "    </tr>\n",
       "    <tr>\n",
       "      <th>4999</th>\n",
       "      <td>5000</td>\n",
       "      <td>28</td>\n",
       "      <td>4</td>\n",
       "      <td>83</td>\n",
       "      <td>0.8</td>\n",
       "      <td>0</td>\n",
       "      <td>0</td>\n",
       "      <td>0</td>\n",
       "      <td>0</td>\n",
       "      <td>1</td>\n",
       "      <td>...</td>\n",
       "      <td>1</td>\n",
       "      <td>0</td>\n",
       "      <td>0</td>\n",
       "      <td>0</td>\n",
       "      <td>0</td>\n",
       "      <td>0</td>\n",
       "      <td>1</td>\n",
       "      <td>0</td>\n",
       "      <td>0</td>\n",
       "      <td>0</td>\n",
       "    </tr>\n",
       "  </tbody>\n",
       "</table>\n",
       "<p>5000 rows × 23 columns</p>\n",
       "</div>"
      ],
      "text/plain": [
       "        ID  Age  Experience  Income  CCAvg  Mortgage Personal_loan  \\\n",
       "0        1   25           1      49    1.6         0             0   \n",
       "1        2   45          19      34    1.5         0             0   \n",
       "2        3   39          15      11    1.0         0             0   \n",
       "3        4   35           9     100    2.7         0             0   \n",
       "4        5   35           8      45    1.0         0             0   \n",
       "...    ...  ...         ...     ...    ...       ...           ...   \n",
       "4995  4996   29           3      40    1.9         0             0   \n",
       "4996  4997   30           4      15    0.4        85             0   \n",
       "4997  4998   63          39      24    0.3         0             0   \n",
       "4998  4999   65          40      49    0.5         0             0   \n",
       "4999  5000   28           4      83    0.8         0             0   \n",
       "\n",
       "     Securities_account CD_account Online  ... Area_92  Area_93  Area_94  \\\n",
       "0                     1          0      0  ...       0        0        0   \n",
       "1                     1          0      0  ...       0        0        0   \n",
       "2                     0          0      0  ...       0        0        1   \n",
       "3                     0          0      0  ...       0        0        1   \n",
       "4                     0          0      0  ...       0        0        0   \n",
       "...                 ...        ...    ...  ...     ...      ...      ...   \n",
       "4995                  0          0      1  ...       1        0        0   \n",
       "4996                  0          0      1  ...       1        0        0   \n",
       "4997                  0          0      0  ...       0        1        0   \n",
       "4998                  0          0      1  ...       0        0        0   \n",
       "4999                  0          0      1  ...       1        0        0   \n",
       "\n",
       "      Area_95  Area_96  Family_2  Family_3  Family_4  Education_2  Education_3  \n",
       "0           0        0         0         0         1            0            0  \n",
       "1           0        0         0         1         0            0            0  \n",
       "2           0        0         0         0         0            0            0  \n",
       "3           0        0         0         0         0            1            0  \n",
       "4           0        0         0         0         1            1            0  \n",
       "...       ...      ...       ...       ...       ...          ...          ...  \n",
       "4995        0        0         0         0         0            0            1  \n",
       "4996        0        0         0         0         1            0            0  \n",
       "4997        0        0         1         0         0            0            1  \n",
       "4998        0        0         0         1         0            1            0  \n",
       "4999        0        0         0         1         0            0            0  \n",
       "\n",
       "[5000 rows x 23 columns]"
      ]
     },
     "execution_count": 68,
     "metadata": {},
     "output_type": "execute_result"
    }
   ],
   "source": [
    "df_modified"
   ]
  },
  {
   "cell_type": "markdown",
   "metadata": {},
   "source": [
    "- All negative values for experience must be changed to positive by applying absolute function\n",
    "- Both dataframes will be used (df and df_modified) just for the comparison between models trained with both dataframes"
   ]
  },
  {
   "cell_type": "code",
   "execution_count": 71,
   "metadata": {},
   "outputs": [
    {
     "data": {
      "text/plain": [
       "False"
      ]
     },
     "execution_count": 71,
     "metadata": {},
     "output_type": "execute_result"
    }
   ],
   "source": [
    "df['Experience']=abs(df['Experience'])\n",
    "df[df['Experience']<0]['Experience'].any()#checking if all negative values have been transformed"
   ]
  },
  {
   "cell_type": "code",
   "execution_count": 72,
   "metadata": {},
   "outputs": [
    {
     "data": {
      "text/plain": [
       "False"
      ]
     },
     "execution_count": 72,
     "metadata": {},
     "output_type": "execute_result"
    }
   ],
   "source": [
    "df_modified['Experience']=abs(df['Experience'])\n",
    "df_modified[df_modified['Experience']<0]['Experience'].any()#checking if all negative values have been transformed"
   ]
  },
  {
   "cell_type": "markdown",
   "metadata": {},
   "source": [
    "### 3. Split the data into trainning and test sets in the ratio of 70:30 respectively"
   ]
  },
  {
   "cell_type": "markdown",
   "metadata": {},
   "source": [
    "* df"
   ]
  },
  {
   "cell_type": "code",
   "execution_count": 79,
   "metadata": {},
   "outputs": [
    {
     "data": {
      "text/html": [
       "<div>\n",
       "<style scoped>\n",
       "    .dataframe tbody tr th:only-of-type {\n",
       "        vertical-align: middle;\n",
       "    }\n",
       "\n",
       "    .dataframe tbody tr th {\n",
       "        vertical-align: top;\n",
       "    }\n",
       "\n",
       "    .dataframe thead th {\n",
       "        text-align: right;\n",
       "    }\n",
       "</style>\n",
       "<table border=\"1\" class=\"dataframe\">\n",
       "  <thead>\n",
       "    <tr style=\"text-align: right;\">\n",
       "      <th></th>\n",
       "      <th>Experience</th>\n",
       "      <th>Income</th>\n",
       "      <th>Family</th>\n",
       "      <th>CCAvg</th>\n",
       "      <th>Education</th>\n",
       "      <th>Mortgage</th>\n",
       "      <th>Securities_account</th>\n",
       "      <th>CD_account</th>\n",
       "      <th>Online</th>\n",
       "      <th>CreditCard</th>\n",
       "    </tr>\n",
       "  </thead>\n",
       "  <tbody>\n",
       "    <tr>\n",
       "      <th>2462</th>\n",
       "      <td>28</td>\n",
       "      <td>23</td>\n",
       "      <td>3</td>\n",
       "      <td>0.4</td>\n",
       "      <td>1</td>\n",
       "      <td>0</td>\n",
       "      <td>0</td>\n",
       "      <td>0</td>\n",
       "      <td>1</td>\n",
       "      <td>0</td>\n",
       "    </tr>\n",
       "    <tr>\n",
       "      <th>413</th>\n",
       "      <td>7</td>\n",
       "      <td>42</td>\n",
       "      <td>3</td>\n",
       "      <td>2.3</td>\n",
       "      <td>1</td>\n",
       "      <td>0</td>\n",
       "      <td>0</td>\n",
       "      <td>0</td>\n",
       "      <td>1</td>\n",
       "      <td>0</td>\n",
       "    </tr>\n",
       "    <tr>\n",
       "      <th>2388</th>\n",
       "      <td>39</td>\n",
       "      <td>23</td>\n",
       "      <td>3</td>\n",
       "      <td>0.5</td>\n",
       "      <td>1</td>\n",
       "      <td>0</td>\n",
       "      <td>1</td>\n",
       "      <td>0</td>\n",
       "      <td>0</td>\n",
       "      <td>0</td>\n",
       "    </tr>\n",
       "    <tr>\n",
       "      <th>3829</th>\n",
       "      <td>39</td>\n",
       "      <td>44</td>\n",
       "      <td>1</td>\n",
       "      <td>0.5</td>\n",
       "      <td>3</td>\n",
       "      <td>0</td>\n",
       "      <td>0</td>\n",
       "      <td>0</td>\n",
       "      <td>1</td>\n",
       "      <td>1</td>\n",
       "    </tr>\n",
       "    <tr>\n",
       "      <th>4994</th>\n",
       "      <td>40</td>\n",
       "      <td>75</td>\n",
       "      <td>3</td>\n",
       "      <td>2.0</td>\n",
       "      <td>3</td>\n",
       "      <td>0</td>\n",
       "      <td>0</td>\n",
       "      <td>0</td>\n",
       "      <td>1</td>\n",
       "      <td>0</td>\n",
       "    </tr>\n",
       "  </tbody>\n",
       "</table>\n",
       "</div>"
      ],
      "text/plain": [
       "      Experience  Income  Family  CCAvg Education  Mortgage  \\\n",
       "2462          28      23       3    0.4         1         0   \n",
       "413            7      42       3    2.3         1         0   \n",
       "2388          39      23       3    0.5         1         0   \n",
       "3829          39      44       1    0.5         3         0   \n",
       "4994          40      75       3    2.0         3         0   \n",
       "\n",
       "     Securities_account CD_account Online CreditCard  \n",
       "2462                  0          0      1          0  \n",
       "413                   0          0      1          0  \n",
       "2388                  1          0      0          0  \n",
       "3829                  0          0      1          1  \n",
       "4994                  0          0      1          0  "
      ]
     },
     "execution_count": 79,
     "metadata": {},
     "output_type": "execute_result"
    }
   ],
   "source": [
    "X1=df.drop(['ID', 'ZIP_code', 'Personal_loan', 'Age'], axis=1)\n",
    "Y1=df['Personal_loan']\n",
    "x1_train, x1_test, y1_train, y1_test=train_test_split(X1, Y1, test_size=0.3)\n",
    "x1_train.head()"
   ]
  },
  {
   "cell_type": "markdown",
   "metadata": {},
   "source": [
    "* df_modified"
   ]
  },
  {
   "cell_type": "code",
   "execution_count": 80,
   "metadata": {},
   "outputs": [
    {
     "data": {
      "text/html": [
       "<div>\n",
       "<style scoped>\n",
       "    .dataframe tbody tr th:only-of-type {\n",
       "        vertical-align: middle;\n",
       "    }\n",
       "\n",
       "    .dataframe tbody tr th {\n",
       "        vertical-align: top;\n",
       "    }\n",
       "\n",
       "    .dataframe thead th {\n",
       "        text-align: right;\n",
       "    }\n",
       "</style>\n",
       "<table border=\"1\" class=\"dataframe\">\n",
       "  <thead>\n",
       "    <tr style=\"text-align: right;\">\n",
       "      <th></th>\n",
       "      <th>Experience</th>\n",
       "      <th>Income</th>\n",
       "      <th>CCAvg</th>\n",
       "      <th>Mortgage</th>\n",
       "      <th>Securities_account</th>\n",
       "      <th>CD_account</th>\n",
       "      <th>Online</th>\n",
       "      <th>CreditCard</th>\n",
       "      <th>Area_90</th>\n",
       "      <th>Area_91</th>\n",
       "      <th>Area_92</th>\n",
       "      <th>Area_93</th>\n",
       "      <th>Area_94</th>\n",
       "      <th>Area_95</th>\n",
       "      <th>Area_96</th>\n",
       "      <th>Family_2</th>\n",
       "      <th>Family_3</th>\n",
       "      <th>Family_4</th>\n",
       "      <th>Education_2</th>\n",
       "      <th>Education_3</th>\n",
       "    </tr>\n",
       "  </thead>\n",
       "  <tbody>\n",
       "    <tr>\n",
       "      <th>318</th>\n",
       "      <td>2</td>\n",
       "      <td>110</td>\n",
       "      <td>1.8</td>\n",
       "      <td>190</td>\n",
       "      <td>0</td>\n",
       "      <td>0</td>\n",
       "      <td>1</td>\n",
       "      <td>0</td>\n",
       "      <td>0</td>\n",
       "      <td>0</td>\n",
       "      <td>0</td>\n",
       "      <td>0</td>\n",
       "      <td>0</td>\n",
       "      <td>1</td>\n",
       "      <td>0</td>\n",
       "      <td>0</td>\n",
       "      <td>0</td>\n",
       "      <td>1</td>\n",
       "      <td>0</td>\n",
       "      <td>1</td>\n",
       "    </tr>\n",
       "    <tr>\n",
       "      <th>3334</th>\n",
       "      <td>14</td>\n",
       "      <td>30</td>\n",
       "      <td>0.8</td>\n",
       "      <td>86</td>\n",
       "      <td>0</td>\n",
       "      <td>0</td>\n",
       "      <td>0</td>\n",
       "      <td>0</td>\n",
       "      <td>0</td>\n",
       "      <td>0</td>\n",
       "      <td>0</td>\n",
       "      <td>0</td>\n",
       "      <td>1</td>\n",
       "      <td>0</td>\n",
       "      <td>0</td>\n",
       "      <td>1</td>\n",
       "      <td>0</td>\n",
       "      <td>0</td>\n",
       "      <td>0</td>\n",
       "      <td>1</td>\n",
       "    </tr>\n",
       "    <tr>\n",
       "      <th>850</th>\n",
       "      <td>20</td>\n",
       "      <td>39</td>\n",
       "      <td>0.2</td>\n",
       "      <td>0</td>\n",
       "      <td>0</td>\n",
       "      <td>0</td>\n",
       "      <td>0</td>\n",
       "      <td>0</td>\n",
       "      <td>0</td>\n",
       "      <td>0</td>\n",
       "      <td>0</td>\n",
       "      <td>0</td>\n",
       "      <td>0</td>\n",
       "      <td>1</td>\n",
       "      <td>0</td>\n",
       "      <td>0</td>\n",
       "      <td>0</td>\n",
       "      <td>0</td>\n",
       "      <td>0</td>\n",
       "      <td>0</td>\n",
       "    </tr>\n",
       "    <tr>\n",
       "      <th>1908</th>\n",
       "      <td>26</td>\n",
       "      <td>22</td>\n",
       "      <td>0.5</td>\n",
       "      <td>112</td>\n",
       "      <td>0</td>\n",
       "      <td>0</td>\n",
       "      <td>1</td>\n",
       "      <td>0</td>\n",
       "      <td>0</td>\n",
       "      <td>0</td>\n",
       "      <td>1</td>\n",
       "      <td>0</td>\n",
       "      <td>0</td>\n",
       "      <td>0</td>\n",
       "      <td>0</td>\n",
       "      <td>0</td>\n",
       "      <td>0</td>\n",
       "      <td>1</td>\n",
       "      <td>1</td>\n",
       "      <td>0</td>\n",
       "    </tr>\n",
       "    <tr>\n",
       "      <th>1095</th>\n",
       "      <td>25</td>\n",
       "      <td>43</td>\n",
       "      <td>1.4</td>\n",
       "      <td>137</td>\n",
       "      <td>0</td>\n",
       "      <td>0</td>\n",
       "      <td>1</td>\n",
       "      <td>0</td>\n",
       "      <td>0</td>\n",
       "      <td>0</td>\n",
       "      <td>1</td>\n",
       "      <td>0</td>\n",
       "      <td>0</td>\n",
       "      <td>0</td>\n",
       "      <td>0</td>\n",
       "      <td>0</td>\n",
       "      <td>0</td>\n",
       "      <td>0</td>\n",
       "      <td>0</td>\n",
       "      <td>1</td>\n",
       "    </tr>\n",
       "  </tbody>\n",
       "</table>\n",
       "</div>"
      ],
      "text/plain": [
       "      Experience  Income  CCAvg  Mortgage Securities_account CD_account  \\\n",
       "318            2     110    1.8       190                  0          0   \n",
       "3334          14      30    0.8        86                  0          0   \n",
       "850           20      39    0.2         0                  0          0   \n",
       "1908          26      22    0.5       112                  0          0   \n",
       "1095          25      43    1.4       137                  0          0   \n",
       "\n",
       "     Online CreditCard  Area_90  Area_91  Area_92  Area_93  Area_94  Area_95  \\\n",
       "318       1          0        0        0        0        0        0        1   \n",
       "3334      0          0        0        0        0        0        1        0   \n",
       "850       0          0        0        0        0        0        0        1   \n",
       "1908      1          0        0        0        1        0        0        0   \n",
       "1095      1          0        0        0        1        0        0        0   \n",
       "\n",
       "      Area_96  Family_2  Family_3  Family_4  Education_2  Education_3  \n",
       "318         0         0         0         1            0            1  \n",
       "3334        0         1         0         0            0            1  \n",
       "850         0         0         0         0            0            0  \n",
       "1908        0         0         0         1            1            0  \n",
       "1095        0         0         0         0            0            1  "
      ]
     },
     "execution_count": 80,
     "metadata": {},
     "output_type": "execute_result"
    }
   ],
   "source": [
    "X2=df_modified.drop(['ID', 'Personal_loan', 'Age'], axis=1)\n",
    "Y2=df['Personal_loan']\n",
    "x2_train, x2_test, y2_train, y2_test=train_test_split(X2, Y2, test_size=0.3)\n",
    "x2_train.head()"
   ]
  },
  {
   "cell_type": "markdown",
   "metadata": {},
   "source": [
    "Training and test data have been prepared based on adjusted dataset. Adjustment was composed of removing of unwanted columns like ID and ZIP_code (this one have been previously removed from df_modified) and targeted variable (Personal_loan). In addition, the age has been removed since experience is highly correlated wiuth the age. For a result, a Personal_loan has been taken (Y dataframe).\n",
    "Training and test sets have been generated in ratio of 70:30."
   ]
  },
  {
   "cell_type": "markdown",
   "metadata": {},
   "source": [
    "* df"
   ]
  },
  {
   "cell_type": "code",
   "execution_count": 81,
   "metadata": {},
   "outputs": [
    {
     "name": "stdout",
     "output_type": "stream",
     "text": [
      "Portion of training data is 70.0 percent\n",
      "Portion of testing data is 30.0 percent\n"
     ]
    }
   ],
   "source": [
    "print('Portion of training data is', len(x1_train)/len(X1)*100,'percent')\n",
    "print('Portion of testing data is', len(x1_test)/len(X1)*100,'percent')"
   ]
  },
  {
   "cell_type": "markdown",
   "metadata": {},
   "source": [
    "* df_modified"
   ]
  },
  {
   "cell_type": "code",
   "execution_count": 82,
   "metadata": {},
   "outputs": [
    {
     "name": "stdout",
     "output_type": "stream",
     "text": [
      "Portion of training data is 70.0 percent\n",
      "Portion of testing data is 30.0 percent\n"
     ]
    }
   ],
   "source": [
    "print('Portion of training data is', len(x2_train)/len(X2)*100,'percent')\n",
    "print('Portion of testing data is', len(x2_test)/len(X2)*100,'percent')"
   ]
  },
  {
   "cell_type": "markdown",
   "metadata": {},
   "source": [
    "Check has been done on portion of training and test data compared to full set."
   ]
  },
  {
   "cell_type": "markdown",
   "metadata": {},
   "source": [
    "* first for the df:"
   ]
  },
  {
   "cell_type": "code",
   "execution_count": 83,
   "metadata": {},
   "outputs": [
    {
     "name": "stdout",
     "output_type": "stream",
     "text": [
      "COLUMN  Education :\n",
      "Percentage of each value in originala data\n",
      "1    41.92\n",
      "3    30.02\n",
      "2    28.06\n",
      "Name: Education, dtype: float64\n",
      "Percentage of each value in training data\n",
      "1    41.742857\n",
      "3    29.571429\n",
      "2    28.685714\n",
      "Name: Education, dtype: float64\n",
      "Percentage of each value in test data\n",
      "1    42.333333\n",
      "3    31.066667\n",
      "2    26.600000\n",
      "Name: Education, dtype: float64\n",
      "--------------------------------------\n",
      "COLUMN  Securities_account :\n",
      "Percentage of each value in originala data\n",
      "0    89.56\n",
      "1    10.44\n",
      "Name: Securities_account, dtype: float64\n",
      "Percentage of each value in training data\n",
      "0    89.8\n",
      "1    10.2\n",
      "Name: Securities_account, dtype: float64\n",
      "Percentage of each value in test data\n",
      "0    89.0\n",
      "1    11.0\n",
      "Name: Securities_account, dtype: float64\n",
      "--------------------------------------\n",
      "COLUMN  CD_account :\n",
      "Percentage of each value in originala data\n",
      "0    93.96\n",
      "1     6.04\n",
      "Name: CD_account, dtype: float64\n",
      "Percentage of each value in training data\n",
      "0    94.0\n",
      "1     6.0\n",
      "Name: CD_account, dtype: float64\n",
      "Percentage of each value in test data\n",
      "0    93.866667\n",
      "1     6.133333\n",
      "Name: CD_account, dtype: float64\n",
      "--------------------------------------\n",
      "COLUMN  Online :\n",
      "Percentage of each value in originala data\n",
      "1    59.68\n",
      "0    40.32\n",
      "Name: Online, dtype: float64\n",
      "Percentage of each value in training data\n",
      "1    59.285714\n",
      "0    40.714286\n",
      "Name: Online, dtype: float64\n",
      "Percentage of each value in test data\n",
      "1    60.6\n",
      "0    39.4\n",
      "Name: Online, dtype: float64\n",
      "--------------------------------------\n",
      "COLUMN  CreditCard :\n",
      "Percentage of each value in originala data\n",
      "0    70.6\n",
      "1    29.4\n",
      "Name: CreditCard, dtype: float64\n",
      "Percentage of each value in training data\n",
      "0    70.771429\n",
      "1    29.228571\n",
      "Name: CreditCard, dtype: float64\n",
      "Percentage of each value in test data\n",
      "0    70.2\n",
      "1    29.8\n",
      "Name: CreditCard, dtype: float64\n",
      "--------------------------------------\n"
     ]
    }
   ],
   "source": [
    "categorical=['Education', 'Securities_account', \n",
    "             'CD_account', 'Online',\n",
    "            'CreditCard']\n",
    "for i in categorical:\n",
    "    print('COLUMN ', i, ':')\n",
    "    print ('Percentage of each value in originala data')\n",
    "    print(100*(df[i].value_counts()/df[i].value_counts().sum()))\n",
    "    print ('Percentage of each value in training data')\n",
    "    print(100*(x_train[i].value_counts()/x_train[i].value_counts().sum()))\n",
    "    print ('Percentage of each value in test data')\n",
    "    print(100*(x_test[i].value_counts()/x_test[i].value_counts().sum()))\n",
    "\n",
    "    print('--------------------------------------')"
   ]
  },
  {
   "cell_type": "markdown",
   "metadata": {},
   "source": [
    "Representativness of training and test sets have been verified by checking the percentage of each category in original data, training data and test data. It can be concluded those percentages are similar in test data and train data compared to original data, so it might be concluded the training data and testing data are good representatives of original data. "
   ]
  },
  {
   "cell_type": "markdown",
   "metadata": {},
   "source": [
    "### 4. Use the Logistic Regression model to predict whether the customer will take a personal loan or not.\n",
    "* Print all the metrics related to evaluation of the model performance (accuracy, recall, precission, f1score and ROC_AUC_score).\n",
    "* Draw a heatmap to display confusion matrix"
   ]
  },
  {
   "cell_type": "code",
   "execution_count": 100,
   "metadata": {},
   "outputs": [],
   "source": [
    "#generating a model (based on df)\n",
    "model1=LogisticRegression(solver=\"liblinear\", class_weight='balanced', random_state=1)\n",
    "model1.fit(x1_train, y1_train)\n",
    "\n",
    "#prediction based on model\n",
    "y1_predict=model1.predict(x1_test)\n"
   ]
  },
  {
   "cell_type": "code",
   "execution_count": 111,
   "metadata": {},
   "outputs": [],
   "source": [
    "#generating a model (based on df_modified)\n",
    "model2=LogisticRegression(solver=\"liblinear\", class_weight='balanced', random_state=1)\n",
    "model2.fit(x2_train, y2_train)\n",
    "\n",
    "#prediction based on model\n",
    "y2_predict=model.predict(x2_test)"
   ]
  },
  {
   "cell_type": "markdown",
   "metadata": {},
   "source": [
    "In both cases class_weight has been set to balanced since the data set is imbalanced. The reason to use balanced class_weigh is because it was the easiest way to set weighes of each class as it is set inverserly proportional to class frequencies."
   ]
  },
  {
   "cell_type": "code",
   "execution_count": 139,
   "metadata": {},
   "outputs": [],
   "source": [
    "from sklearn.metrics import recall_score, precision_score, f1_score, roc_auc_score, confusion_matrix"
   ]
  },
  {
   "cell_type": "code",
   "execution_count": 112,
   "metadata": {},
   "outputs": [
    {
     "name": "stdout",
     "output_type": "stream",
     "text": [
      "accuracy on test data of model 1 is 0.8966666666666666\n",
      "accuracy on test data of model 2 is 0.898\n"
     ]
    }
   ],
   "source": [
    "print ('accuracy on test data of model 1 is', model1.score(x1_test, y1_test))\n",
    "print ('accuracy on test data of model 2 is', model2.score(x2_test, y2_test))"
   ]
  },
  {
   "cell_type": "code",
   "execution_count": 118,
   "metadata": {},
   "outputs": [
    {
     "name": "stdout",
     "output_type": "stream",
     "text": [
      "recall for model 1 is 0.9102564102564102\n",
      "recall for model 2 is 0.6644736842105263\n"
     ]
    }
   ],
   "source": [
    "print('recall for model 1 is', recall_score(y1_test, y1_predict))\n",
    "print('recall for model 2 is', recall_score(y2_test, y2_predict))"
   ]
  },
  {
   "cell_type": "code",
   "execution_count": 119,
   "metadata": {},
   "outputs": [
    {
     "name": "stdout",
     "output_type": "stream",
     "text": [
      "precision for model 1 is 0.5017667844522968\n",
      "precision for model 2 is 0.8938053097345132\n"
     ]
    }
   ],
   "source": [
    "print('precision for model 1 is', precision_score(y1_test, y1_predict))\n",
    "print('precision for model 2 is', precision_score(y2_test, y2_predict))"
   ]
  },
  {
   "cell_type": "code",
   "execution_count": 122,
   "metadata": {},
   "outputs": [
    {
     "name": "stdout",
     "output_type": "stream",
     "text": [
      "f1 score for model 1 is 0.6469248291571755\n",
      "f1 score for model 2 is 0.7622641509433962\n"
     ]
    }
   ],
   "source": [
    "print('f1 score for model 1 is', f1_score(y1_test, y1_predict))\n",
    "print('f1 score for model 2 is', f1_score(y2_test, y2_predict))"
   ]
  },
  {
   "cell_type": "code",
   "execution_count": 123,
   "metadata": {},
   "outputs": [
    {
     "name": "stdout",
     "output_type": "stream",
     "text": [
      "roc auc score for model 1 is 0.9026728479853479\n",
      "roc auc score for model 2 is 0.8277858035295955\n"
     ]
    }
   ],
   "source": [
    "print('roc auc score for model 1 is', roc_auc_score(y1_test, y1_predict))\n",
    "print('roc auc score for model 2 is', roc_auc_score(y2_test, y2_predict))"
   ]
  },
  {
   "cell_type": "code",
   "execution_count": 128,
   "metadata": {},
   "outputs": [
    {
     "data": {
      "text/plain": [
       "array([[1203,  141],\n",
       "       [  14,  142]], dtype=int64)"
      ]
     },
     "execution_count": 128,
     "metadata": {},
     "output_type": "execute_result"
    }
   ],
   "source": [
    "confusion_matrix(y1_test, y1_predict)"
   ]
  },
  {
   "cell_type": "code",
   "execution_count": 126,
   "metadata": {},
   "outputs": [
    {
     "data": {
      "image/png": "[encoded data removed]",
      "text/plain": [
       "<Figure size 432x288 with 2 Axes>"
      ]
     },
     "metadata": {},
     "output_type": "display_data"
    }
   ],
   "source": [
    "#confusion matrix for model 1:\n",
    "sns.heatmap(confusion_matrix(y1_test, y1_predict), annot=True, xticklabels = [0,1] , yticklabels = [0,1])\n",
    "plt.ylabel('Observed')\n",
    "plt.xlabel('Predict')\n",
    "plt.show()"
   ]
  },
  {
   "cell_type": "code",
   "execution_count": 127,
   "metadata": {},
   "outputs": [
    {
     "data": {
      "image/png": "[encoded data removed]",
      "text/plain": [
       "<Figure size 432x288 with 2 Axes>"
      ]
     },
     "metadata": {},
     "output_type": "display_data"
    }
   ],
   "source": [
    "#confusion matrix for model 2:\n",
    "sns.heatmap(confusion_matrix(y2_test, y2_predict), annot=True, xticklabels = [0,1] , yticklabels = [0,1])\n",
    "plt.ylabel('Observed')\n",
    "plt.xlabel('Predict')\n",
    "plt.show()"
   ]
  },
  {
   "cell_type": "markdown",
   "metadata": {},
   "source": [
    "### 5. Find out coefficients of all the attributes and show the output in a dataframe with column names. For test data show all the rows where the predicted class is not equal to the observed class"
   ]
  },
  {
   "cell_type": "markdown",
   "metadata": {},
   "source": [
    "#### Coefficients of all attributes\n",
    "* Output is shown in a form of dataframe whit column names"
   ]
  },
  {
   "cell_type": "code",
   "execution_count": 133,
   "metadata": {},
   "outputs": [
    {
     "data": {
      "text/html": [
       "<div>\n",
       "<style scoped>\n",
       "    .dataframe tbody tr th:only-of-type {\n",
       "        vertical-align: middle;\n",
       "    }\n",
       "\n",
       "    .dataframe tbody tr th {\n",
       "        vertical-align: top;\n",
       "    }\n",
       "\n",
       "    .dataframe thead th {\n",
       "        text-align: right;\n",
       "    }\n",
       "</style>\n",
       "<table border=\"1\" class=\"dataframe\">\n",
       "  <thead>\n",
       "    <tr style=\"text-align: right;\">\n",
       "      <th></th>\n",
       "      <th>Experience</th>\n",
       "      <th>Income</th>\n",
       "      <th>Family</th>\n",
       "      <th>CCAvg</th>\n",
       "      <th>Education</th>\n",
       "      <th>Mortgage</th>\n",
       "      <th>Securities_account</th>\n",
       "      <th>CD_account</th>\n",
       "      <th>Online</th>\n",
       "      <th>CreditCard</th>\n",
       "    </tr>\n",
       "  </thead>\n",
       "  <tbody>\n",
       "    <tr>\n",
       "      <th>0</th>\n",
       "      <td>-0.001863</td>\n",
       "      <td>0.046454</td>\n",
       "      <td>0.448898</td>\n",
       "      <td>0.2093</td>\n",
       "      <td>1.074253</td>\n",
       "      <td>0.000794</td>\n",
       "      <td>-0.860107</td>\n",
       "      <td>3.198721</td>\n",
       "      <td>-0.741138</td>\n",
       "      <td>-0.960211</td>\n",
       "    </tr>\n",
       "  </tbody>\n",
       "</table>\n",
       "</div>"
      ],
      "text/plain": [
       "   Experience    Income    Family   CCAvg  Education  Mortgage  \\\n",
       "0   -0.001863  0.046454  0.448898  0.2093   1.074253  0.000794   \n",
       "\n",
       "   Securities_account  CD_account    Online  CreditCard  \n",
       "0           -0.860107    3.198721 -0.741138   -0.960211  "
      ]
     },
     "execution_count": 133,
     "metadata": {},
     "output_type": "execute_result"
    }
   ],
   "source": [
    "#coefficients of model 1\n",
    "coefficient_df_model_1=pd.DataFrame(model1.coef_, columns=X1.columns)\n",
    "coefficient_df_model_1"
   ]
  },
  {
   "cell_type": "code",
   "execution_count": 135,
   "metadata": {},
   "outputs": [
    {
     "data": {
      "text/html": [
       "<div>\n",
       "<style scoped>\n",
       "    .dataframe tbody tr th:only-of-type {\n",
       "        vertical-align: middle;\n",
       "    }\n",
       "\n",
       "    .dataframe tbody tr th {\n",
       "        vertical-align: top;\n",
       "    }\n",
       "\n",
       "    .dataframe thead th {\n",
       "        text-align: right;\n",
       "    }\n",
       "</style>\n",
       "<table border=\"1\" class=\"dataframe\">\n",
       "  <thead>\n",
       "    <tr style=\"text-align: right;\">\n",
       "      <th></th>\n",
       "      <th>Experience</th>\n",
       "      <th>Income</th>\n",
       "      <th>CCAvg</th>\n",
       "      <th>Mortgage</th>\n",
       "      <th>Securities_account</th>\n",
       "      <th>CD_account</th>\n",
       "      <th>Online</th>\n",
       "      <th>CreditCard</th>\n",
       "      <th>Area_90</th>\n",
       "      <th>Area_91</th>\n",
       "      <th>Area_92</th>\n",
       "      <th>Area_93</th>\n",
       "      <th>Area_94</th>\n",
       "      <th>Area_95</th>\n",
       "      <th>Area_96</th>\n",
       "      <th>Family_2</th>\n",
       "      <th>Family_3</th>\n",
       "      <th>Family_4</th>\n",
       "      <th>Education_2</th>\n",
       "      <th>Education_3</th>\n",
       "    </tr>\n",
       "  </thead>\n",
       "  <tbody>\n",
       "    <tr>\n",
       "      <th>0</th>\n",
       "      <td>-0.004341</td>\n",
       "      <td>0.054647</td>\n",
       "      <td>0.178559</td>\n",
       "      <td>0.000693</td>\n",
       "      <td>-0.785586</td>\n",
       "      <td>2.963262</td>\n",
       "      <td>-0.701054</td>\n",
       "      <td>-0.724472</td>\n",
       "      <td>-0.696104</td>\n",
       "      <td>-1.236831</td>\n",
       "      <td>-0.750772</td>\n",
       "      <td>-1.32953</td>\n",
       "      <td>-0.986325</td>\n",
       "      <td>-1.09665</td>\n",
       "      <td>-1.013157</td>\n",
       "      <td>-0.359562</td>\n",
       "      <td>1.312915</td>\n",
       "      <td>1.301628</td>\n",
       "      <td>2.293939</td>\n",
       "      <td>2.447636</td>\n",
       "    </tr>\n",
       "  </tbody>\n",
       "</table>\n",
       "</div>"
      ],
      "text/plain": [
       "   Experience    Income     CCAvg  Mortgage  Securities_account  CD_account  \\\n",
       "0   -0.004341  0.054647  0.178559  0.000693           -0.785586    2.963262   \n",
       "\n",
       "     Online  CreditCard   Area_90   Area_91   Area_92  Area_93   Area_94  \\\n",
       "0 -0.701054   -0.724472 -0.696104 -1.236831 -0.750772 -1.32953 -0.986325   \n",
       "\n",
       "   Area_95   Area_96  Family_2  Family_3  Family_4  Education_2  Education_3  \n",
       "0 -1.09665 -1.013157 -0.359562  1.312915  1.301628     2.293939     2.447636  "
      ]
     },
     "execution_count": 135,
     "metadata": {},
     "output_type": "execute_result"
    }
   ],
   "source": [
    "#coefficients of model 2\n",
    "coefficient_df_model_2=pd.DataFrame(model2.coef_, columns=X2.columns)\n",
    "coefficient_df_model_2"
   ]
  },
  {
   "cell_type": "markdown",
   "metadata": {},
   "source": [
    "#### Showing all the rows where predicted class is not equal to observed class\n",
    "* x(1/2)_test and y1(1/2)_test must be concatenated and new column 'Predicition' has o be added. "
   ]
  },
  {
   "cell_type": "code",
   "execution_count": 136,
   "metadata": {},
   "outputs": [
    {
     "data": {
      "text/html": [
       "<div>\n",
       "<style scoped>\n",
       "    .dataframe tbody tr th:only-of-type {\n",
       "        vertical-align: middle;\n",
       "    }\n",
       "\n",
       "    .dataframe tbody tr th {\n",
       "        vertical-align: top;\n",
       "    }\n",
       "\n",
       "    .dataframe thead th {\n",
       "        text-align: right;\n",
       "    }\n",
       "</style>\n",
       "<table border=\"1\" class=\"dataframe\">\n",
       "  <thead>\n",
       "    <tr style=\"text-align: right;\">\n",
       "      <th></th>\n",
       "      <th>Experience</th>\n",
       "      <th>Income</th>\n",
       "      <th>Family</th>\n",
       "      <th>CCAvg</th>\n",
       "      <th>Education</th>\n",
       "      <th>Mortgage</th>\n",
       "      <th>Securities_account</th>\n",
       "      <th>CD_account</th>\n",
       "      <th>Online</th>\n",
       "      <th>CreditCard</th>\n",
       "      <th>Personal_loan</th>\n",
       "      <th>Predict</th>\n",
       "    </tr>\n",
       "  </thead>\n",
       "  <tbody>\n",
       "    <tr>\n",
       "      <th>1129</th>\n",
       "      <td>4</td>\n",
       "      <td>73</td>\n",
       "      <td>3</td>\n",
       "      <td>3.3</td>\n",
       "      <td>1</td>\n",
       "      <td>0</td>\n",
       "      <td>0</td>\n",
       "      <td>1</td>\n",
       "      <td>1</td>\n",
       "      <td>1</td>\n",
       "      <td>1</td>\n",
       "      <td>0</td>\n",
       "    </tr>\n",
       "    <tr>\n",
       "      <th>2833</th>\n",
       "      <td>22</td>\n",
       "      <td>152</td>\n",
       "      <td>2</td>\n",
       "      <td>1.4</td>\n",
       "      <td>1</td>\n",
       "      <td>0</td>\n",
       "      <td>0</td>\n",
       "      <td>0</td>\n",
       "      <td>1</td>\n",
       "      <td>0</td>\n",
       "      <td>0</td>\n",
       "      <td>1</td>\n",
       "    </tr>\n",
       "    <tr>\n",
       "      <th>3013</th>\n",
       "      <td>21</td>\n",
       "      <td>183</td>\n",
       "      <td>2</td>\n",
       "      <td>1.4</td>\n",
       "      <td>1</td>\n",
       "      <td>0</td>\n",
       "      <td>0</td>\n",
       "      <td>0</td>\n",
       "      <td>1</td>\n",
       "      <td>1</td>\n",
       "      <td>0</td>\n",
       "      <td>1</td>\n",
       "    </tr>\n",
       "    <tr>\n",
       "      <th>1379</th>\n",
       "      <td>37</td>\n",
       "      <td>162</td>\n",
       "      <td>1</td>\n",
       "      <td>1.3</td>\n",
       "      <td>1</td>\n",
       "      <td>0</td>\n",
       "      <td>0</td>\n",
       "      <td>0</td>\n",
       "      <td>1</td>\n",
       "      <td>0</td>\n",
       "      <td>0</td>\n",
       "      <td>1</td>\n",
       "    </tr>\n",
       "    <tr>\n",
       "      <th>4700</th>\n",
       "      <td>7</td>\n",
       "      <td>170</td>\n",
       "      <td>1</td>\n",
       "      <td>6.0</td>\n",
       "      <td>1</td>\n",
       "      <td>0</td>\n",
       "      <td>0</td>\n",
       "      <td>0</td>\n",
       "      <td>1</td>\n",
       "      <td>0</td>\n",
       "      <td>0</td>\n",
       "      <td>1</td>\n",
       "    </tr>\n",
       "    <tr>\n",
       "      <th>...</th>\n",
       "      <td>...</td>\n",
       "      <td>...</td>\n",
       "      <td>...</td>\n",
       "      <td>...</td>\n",
       "      <td>...</td>\n",
       "      <td>...</td>\n",
       "      <td>...</td>\n",
       "      <td>...</td>\n",
       "      <td>...</td>\n",
       "      <td>...</td>\n",
       "      <td>...</td>\n",
       "      <td>...</td>\n",
       "    </tr>\n",
       "    <tr>\n",
       "      <th>2024</th>\n",
       "      <td>12</td>\n",
       "      <td>113</td>\n",
       "      <td>4</td>\n",
       "      <td>0.2</td>\n",
       "      <td>1</td>\n",
       "      <td>0</td>\n",
       "      <td>0</td>\n",
       "      <td>0</td>\n",
       "      <td>0</td>\n",
       "      <td>0</td>\n",
       "      <td>1</td>\n",
       "      <td>0</td>\n",
       "    </tr>\n",
       "    <tr>\n",
       "      <th>4604</th>\n",
       "      <td>7</td>\n",
       "      <td>81</td>\n",
       "      <td>2</td>\n",
       "      <td>3.4</td>\n",
       "      <td>2</td>\n",
       "      <td>0</td>\n",
       "      <td>0</td>\n",
       "      <td>0</td>\n",
       "      <td>0</td>\n",
       "      <td>1</td>\n",
       "      <td>1</td>\n",
       "      <td>0</td>\n",
       "    </tr>\n",
       "    <tr>\n",
       "      <th>793</th>\n",
       "      <td>2</td>\n",
       "      <td>150</td>\n",
       "      <td>2</td>\n",
       "      <td>2.0</td>\n",
       "      <td>1</td>\n",
       "      <td>0</td>\n",
       "      <td>0</td>\n",
       "      <td>0</td>\n",
       "      <td>1</td>\n",
       "      <td>0</td>\n",
       "      <td>0</td>\n",
       "      <td>1</td>\n",
       "    </tr>\n",
       "    <tr>\n",
       "      <th>3920</th>\n",
       "      <td>8</td>\n",
       "      <td>82</td>\n",
       "      <td>2</td>\n",
       "      <td>1.5</td>\n",
       "      <td>3</td>\n",
       "      <td>0</td>\n",
       "      <td>1</td>\n",
       "      <td>1</td>\n",
       "      <td>1</td>\n",
       "      <td>1</td>\n",
       "      <td>0</td>\n",
       "      <td>1</td>\n",
       "    </tr>\n",
       "    <tr>\n",
       "      <th>2647</th>\n",
       "      <td>37</td>\n",
       "      <td>155</td>\n",
       "      <td>1</td>\n",
       "      <td>2.9</td>\n",
       "      <td>1</td>\n",
       "      <td>0</td>\n",
       "      <td>0</td>\n",
       "      <td>0</td>\n",
       "      <td>1</td>\n",
       "      <td>0</td>\n",
       "      <td>0</td>\n",
       "      <td>1</td>\n",
       "    </tr>\n",
       "  </tbody>\n",
       "</table>\n",
       "<p>155 rows × 12 columns</p>\n",
       "</div>"
      ],
      "text/plain": [
       "      Experience  Income  Family  CCAvg Education  Mortgage  \\\n",
       "1129           4      73       3    3.3         1         0   \n",
       "2833          22     152       2    1.4         1         0   \n",
       "3013          21     183       2    1.4         1         0   \n",
       "1379          37     162       1    1.3         1         0   \n",
       "4700           7     170       1    6.0         1         0   \n",
       "...          ...     ...     ...    ...       ...       ...   \n",
       "2024          12     113       4    0.2         1         0   \n",
       "4604           7      81       2    3.4         2         0   \n",
       "793            2     150       2    2.0         1         0   \n",
       "3920           8      82       2    1.5         3         0   \n",
       "2647          37     155       1    2.9         1         0   \n",
       "\n",
       "     Securities_account CD_account Online CreditCard Personal_loan  Predict  \n",
       "1129                  0          1      1          1             1        0  \n",
       "2833                  0          0      1          0             0        1  \n",
       "3013                  0          0      1          1             0        1  \n",
       "1379                  0          0      1          0             0        1  \n",
       "4700                  0          0      1          0             0        1  \n",
       "...                 ...        ...    ...        ...           ...      ...  \n",
       "2024                  0          0      0          0             1        0  \n",
       "4604                  0          0      0          1             1        0  \n",
       "793                   0          0      1          0             0        1  \n",
       "3920                  1          1      1          1             0        1  \n",
       "2647                  0          0      1          0             0        1  \n",
       "\n",
       "[155 rows x 12 columns]"
      ]
     },
     "execution_count": 136,
     "metadata": {},
     "output_type": "execute_result"
    }
   ],
   "source": [
    "test_predict_df=pd.concat([x1_test, y1_test], axis=1)\n",
    "test_predict_df['Predict']=y1_predict\n",
    "test_predict_df[test_predict_df['Personal_loan']!=test_predict_df['Predict']]"
   ]
  },
  {
   "cell_type": "code",
   "execution_count": 137,
   "metadata": {},
   "outputs": [
    {
     "data": {
      "text/html": [
       "<div>\n",
       "<style scoped>\n",
       "    .dataframe tbody tr th:only-of-type {\n",
       "        vertical-align: middle;\n",
       "    }\n",
       "\n",
       "    .dataframe tbody tr th {\n",
       "        vertical-align: top;\n",
       "    }\n",
       "\n",
       "    .dataframe thead th {\n",
       "        text-align: right;\n",
       "    }\n",
       "</style>\n",
       "<table border=\"1\" class=\"dataframe\">\n",
       "  <thead>\n",
       "    <tr style=\"text-align: right;\">\n",
       "      <th></th>\n",
       "      <th>Experience</th>\n",
       "      <th>Income</th>\n",
       "      <th>CCAvg</th>\n",
       "      <th>Mortgage</th>\n",
       "      <th>Securities_account</th>\n",
       "      <th>CD_account</th>\n",
       "      <th>Online</th>\n",
       "      <th>CreditCard</th>\n",
       "      <th>Area_90</th>\n",
       "      <th>Area_91</th>\n",
       "      <th>...</th>\n",
       "      <th>Area_94</th>\n",
       "      <th>Area_95</th>\n",
       "      <th>Area_96</th>\n",
       "      <th>Family_2</th>\n",
       "      <th>Family_3</th>\n",
       "      <th>Family_4</th>\n",
       "      <th>Education_2</th>\n",
       "      <th>Education_3</th>\n",
       "      <th>Personal_loan</th>\n",
       "      <th>Predict</th>\n",
       "    </tr>\n",
       "  </thead>\n",
       "  <tbody>\n",
       "    <tr>\n",
       "      <th>951</th>\n",
       "      <td>34</td>\n",
       "      <td>83</td>\n",
       "      <td>3.4</td>\n",
       "      <td>0</td>\n",
       "      <td>0</td>\n",
       "      <td>0</td>\n",
       "      <td>1</td>\n",
       "      <td>0</td>\n",
       "      <td>0</td>\n",
       "      <td>0</td>\n",
       "      <td>...</td>\n",
       "      <td>1</td>\n",
       "      <td>0</td>\n",
       "      <td>0</td>\n",
       "      <td>1</td>\n",
       "      <td>0</td>\n",
       "      <td>0</td>\n",
       "      <td>0</td>\n",
       "      <td>1</td>\n",
       "      <td>1</td>\n",
       "      <td>0</td>\n",
       "    </tr>\n",
       "    <tr>\n",
       "      <th>1225</th>\n",
       "      <td>6</td>\n",
       "      <td>118</td>\n",
       "      <td>2.8</td>\n",
       "      <td>0</td>\n",
       "      <td>0</td>\n",
       "      <td>0</td>\n",
       "      <td>0</td>\n",
       "      <td>0</td>\n",
       "      <td>0</td>\n",
       "      <td>0</td>\n",
       "      <td>...</td>\n",
       "      <td>1</td>\n",
       "      <td>0</td>\n",
       "      <td>0</td>\n",
       "      <td>1</td>\n",
       "      <td>0</td>\n",
       "      <td>0</td>\n",
       "      <td>1</td>\n",
       "      <td>0</td>\n",
       "      <td>1</td>\n",
       "      <td>0</td>\n",
       "    </tr>\n",
       "    <tr>\n",
       "      <th>3312</th>\n",
       "      <td>22</td>\n",
       "      <td>190</td>\n",
       "      <td>8.8</td>\n",
       "      <td>0</td>\n",
       "      <td>0</td>\n",
       "      <td>0</td>\n",
       "      <td>0</td>\n",
       "      <td>0</td>\n",
       "      <td>0</td>\n",
       "      <td>0</td>\n",
       "      <td>...</td>\n",
       "      <td>1</td>\n",
       "      <td>0</td>\n",
       "      <td>0</td>\n",
       "      <td>1</td>\n",
       "      <td>0</td>\n",
       "      <td>0</td>\n",
       "      <td>0</td>\n",
       "      <td>0</td>\n",
       "      <td>0</td>\n",
       "      <td>1</td>\n",
       "    </tr>\n",
       "    <tr>\n",
       "      <th>1328</th>\n",
       "      <td>36</td>\n",
       "      <td>145</td>\n",
       "      <td>6.9</td>\n",
       "      <td>380</td>\n",
       "      <td>0</td>\n",
       "      <td>0</td>\n",
       "      <td>0</td>\n",
       "      <td>1</td>\n",
       "      <td>0</td>\n",
       "      <td>0</td>\n",
       "      <td>...</td>\n",
       "      <td>0</td>\n",
       "      <td>1</td>\n",
       "      <td>0</td>\n",
       "      <td>0</td>\n",
       "      <td>0</td>\n",
       "      <td>1</td>\n",
       "      <td>0</td>\n",
       "      <td>0</td>\n",
       "      <td>1</td>\n",
       "      <td>0</td>\n",
       "    </tr>\n",
       "    <tr>\n",
       "      <th>1784</th>\n",
       "      <td>29</td>\n",
       "      <td>119</td>\n",
       "      <td>2.0</td>\n",
       "      <td>0</td>\n",
       "      <td>1</td>\n",
       "      <td>1</td>\n",
       "      <td>0</td>\n",
       "      <td>0</td>\n",
       "      <td>0</td>\n",
       "      <td>1</td>\n",
       "      <td>...</td>\n",
       "      <td>0</td>\n",
       "      <td>0</td>\n",
       "      <td>0</td>\n",
       "      <td>0</td>\n",
       "      <td>1</td>\n",
       "      <td>0</td>\n",
       "      <td>0</td>\n",
       "      <td>0</td>\n",
       "      <td>1</td>\n",
       "      <td>0</td>\n",
       "    </tr>\n",
       "    <tr>\n",
       "      <th>...</th>\n",
       "      <td>...</td>\n",
       "      <td>...</td>\n",
       "      <td>...</td>\n",
       "      <td>...</td>\n",
       "      <td>...</td>\n",
       "      <td>...</td>\n",
       "      <td>...</td>\n",
       "      <td>...</td>\n",
       "      <td>...</td>\n",
       "      <td>...</td>\n",
       "      <td>...</td>\n",
       "      <td>...</td>\n",
       "      <td>...</td>\n",
       "      <td>...</td>\n",
       "      <td>...</td>\n",
       "      <td>...</td>\n",
       "      <td>...</td>\n",
       "      <td>...</td>\n",
       "      <td>...</td>\n",
       "      <td>...</td>\n",
       "      <td>...</td>\n",
       "    </tr>\n",
       "    <tr>\n",
       "      <th>1126</th>\n",
       "      <td>8</td>\n",
       "      <td>104</td>\n",
       "      <td>3.7</td>\n",
       "      <td>0</td>\n",
       "      <td>0</td>\n",
       "      <td>0</td>\n",
       "      <td>0</td>\n",
       "      <td>1</td>\n",
       "      <td>0</td>\n",
       "      <td>0</td>\n",
       "      <td>...</td>\n",
       "      <td>0</td>\n",
       "      <td>1</td>\n",
       "      <td>0</td>\n",
       "      <td>1</td>\n",
       "      <td>0</td>\n",
       "      <td>0</td>\n",
       "      <td>0</td>\n",
       "      <td>0</td>\n",
       "      <td>1</td>\n",
       "      <td>0</td>\n",
       "    </tr>\n",
       "    <tr>\n",
       "      <th>2285</th>\n",
       "      <td>22</td>\n",
       "      <td>114</td>\n",
       "      <td>2.4</td>\n",
       "      <td>0</td>\n",
       "      <td>0</td>\n",
       "      <td>0</td>\n",
       "      <td>1</td>\n",
       "      <td>0</td>\n",
       "      <td>0</td>\n",
       "      <td>0</td>\n",
       "      <td>...</td>\n",
       "      <td>0</td>\n",
       "      <td>0</td>\n",
       "      <td>0</td>\n",
       "      <td>0</td>\n",
       "      <td>0</td>\n",
       "      <td>0</td>\n",
       "      <td>0</td>\n",
       "      <td>1</td>\n",
       "      <td>1</td>\n",
       "      <td>0</td>\n",
       "    </tr>\n",
       "    <tr>\n",
       "      <th>3039</th>\n",
       "      <td>9</td>\n",
       "      <td>141</td>\n",
       "      <td>4.9</td>\n",
       "      <td>0</td>\n",
       "      <td>0</td>\n",
       "      <td>0</td>\n",
       "      <td>0</td>\n",
       "      <td>1</td>\n",
       "      <td>0</td>\n",
       "      <td>0</td>\n",
       "      <td>...</td>\n",
       "      <td>0</td>\n",
       "      <td>1</td>\n",
       "      <td>0</td>\n",
       "      <td>1</td>\n",
       "      <td>0</td>\n",
       "      <td>0</td>\n",
       "      <td>0</td>\n",
       "      <td>1</td>\n",
       "      <td>1</td>\n",
       "      <td>0</td>\n",
       "    </tr>\n",
       "    <tr>\n",
       "      <th>1177</th>\n",
       "      <td>3</td>\n",
       "      <td>71</td>\n",
       "      <td>3.3</td>\n",
       "      <td>149</td>\n",
       "      <td>1</td>\n",
       "      <td>1</td>\n",
       "      <td>1</td>\n",
       "      <td>0</td>\n",
       "      <td>1</td>\n",
       "      <td>0</td>\n",
       "      <td>...</td>\n",
       "      <td>0</td>\n",
       "      <td>0</td>\n",
       "      <td>0</td>\n",
       "      <td>0</td>\n",
       "      <td>0</td>\n",
       "      <td>0</td>\n",
       "      <td>1</td>\n",
       "      <td>0</td>\n",
       "      <td>1</td>\n",
       "      <td>0</td>\n",
       "    </tr>\n",
       "    <tr>\n",
       "      <th>1616</th>\n",
       "      <td>23</td>\n",
       "      <td>84</td>\n",
       "      <td>3.1</td>\n",
       "      <td>0</td>\n",
       "      <td>1</td>\n",
       "      <td>1</td>\n",
       "      <td>1</td>\n",
       "      <td>0</td>\n",
       "      <td>0</td>\n",
       "      <td>0</td>\n",
       "      <td>...</td>\n",
       "      <td>1</td>\n",
       "      <td>0</td>\n",
       "      <td>0</td>\n",
       "      <td>0</td>\n",
       "      <td>0</td>\n",
       "      <td>1</td>\n",
       "      <td>1</td>\n",
       "      <td>0</td>\n",
       "      <td>1</td>\n",
       "      <td>0</td>\n",
       "    </tr>\n",
       "  </tbody>\n",
       "</table>\n",
       "<p>63 rows × 22 columns</p>\n",
       "</div>"
      ],
      "text/plain": [
       "      Experience  Income  CCAvg  Mortgage Securities_account CD_account  \\\n",
       "951           34      83    3.4         0                  0          0   \n",
       "1225           6     118    2.8         0                  0          0   \n",
       "3312          22     190    8.8         0                  0          0   \n",
       "1328          36     145    6.9       380                  0          0   \n",
       "1784          29     119    2.0         0                  1          1   \n",
       "...          ...     ...    ...       ...                ...        ...   \n",
       "1126           8     104    3.7         0                  0          0   \n",
       "2285          22     114    2.4         0                  0          0   \n",
       "3039           9     141    4.9         0                  0          0   \n",
       "1177           3      71    3.3       149                  1          1   \n",
       "1616          23      84    3.1         0                  1          1   \n",
       "\n",
       "     Online CreditCard  Area_90  Area_91  ...  Area_94  Area_95  Area_96  \\\n",
       "951       1          0        0        0  ...        1        0        0   \n",
       "1225      0          0        0        0  ...        1        0        0   \n",
       "3312      0          0        0        0  ...        1        0        0   \n",
       "1328      0          1        0        0  ...        0        1        0   \n",
       "1784      0          0        0        1  ...        0        0        0   \n",
       "...     ...        ...      ...      ...  ...      ...      ...      ...   \n",
       "1126      0          1        0        0  ...        0        1        0   \n",
       "2285      1          0        0        0  ...        0        0        0   \n",
       "3039      0          1        0        0  ...        0        1        0   \n",
       "1177      1          0        1        0  ...        0        0        0   \n",
       "1616      1          0        0        0  ...        1        0        0   \n",
       "\n",
       "      Family_2  Family_3  Family_4  Education_2  Education_3  Personal_loan  \\\n",
       "951          1         0         0            0            1              1   \n",
       "1225         1         0         0            1            0              1   \n",
       "3312         1         0         0            0            0              0   \n",
       "1328         0         0         1            0            0              1   \n",
       "1784         0         1         0            0            0              1   \n",
       "...        ...       ...       ...          ...          ...            ...   \n",
       "1126         1         0         0            0            0              1   \n",
       "2285         0         0         0            0            1              1   \n",
       "3039         1         0         0            0            1              1   \n",
       "1177         0         0         0            1            0              1   \n",
       "1616         0         0         1            1            0              1   \n",
       "\n",
       "      Predict  \n",
       "951         0  \n",
       "1225        0  \n",
       "3312        1  \n",
       "1328        0  \n",
       "1784        0  \n",
       "...       ...  \n",
       "1126        0  \n",
       "2285        0  \n",
       "3039        0  \n",
       "1177        0  \n",
       "1616        0  \n",
       "\n",
       "[63 rows x 22 columns]"
      ]
     },
     "execution_count": 137,
     "metadata": {},
     "output_type": "execute_result"
    }
   ],
   "source": [
    "test_predict_df_modified=pd.concat([x2_test, y2_test], axis=1)\n",
    "test_predict_df_modified['Predict']=y2_predict\n",
    "test_predict_df_modified[test_predict_df_modified['Personal_loan']!=test_predict_df_modified['Predict']]"
   ]
  },
  {
   "cell_type": "markdown",
   "metadata": {},
   "source": [
    "### 6. Give conclusion related to the Business understanding of your model."
   ]
  },
  {
   "cell_type": "markdown",
   "metadata": {},
   "source": [
    "#### meaing of confusion matrix:\n",
    "- True positive (observed=1, predicted=1) - Prediction was that the customer will be offered a loan and will take a loan (the offer was not wasted);\n",
    "- False positive (observed=0, predicted=1) - Prediction was that the customer will be offered a loan and he/she will not take a loan (the offer was wasted);\n",
    "- True Negative (observed=0, predicted=1) - Prediction was that customer will not be offered a loan correctly (the offer was not wasted);\n",
    "- False Negative (observed=1, predicted=0) - The prediction was that the cusotmer will not be offered a loan, while he/she would take a loan (in this case it is the worst error beacuse of the loss of possible profit)"
   ]
  },
  {
   "cell_type": "markdown",
   "metadata": {},
   "source": [
    "#### important features\n",
    "* possession of CD_account, credit card securities account or level of education have highest impact on the output of model 1, while for model 2, besides possession of CD_account, Education_2, Education_3, Family_4 and Family_3 contribute mostly. In additin, it can be seen that areas contribute to output of model 2 much more compared to experience or income.   \n"
   ]
  },
  {
   "cell_type": "markdown",
   "metadata": {},
   "source": [
    "#### important metrics\n",
    "\n",
    "The bank wants to offer a loan to clients. If clinets reject the offer the only loss is loss of time to make an offer, however, if the offer is not given to clients that will accept it, the loss is more significant, since the profit of credit is lost. In this context, the most expensive error is typeII error - false negative, and, hence the specificity (or recall of negative class) is most important. Based on this, it can be concluded that model 1 (the one without taking into account ZIP_code) is more suitable even though accuracy of model 2 is greater than the one of model 1. "
   ]
  },
  {
   "cell_type": "code",
   "execution_count": null,
   "metadata": {},
   "outputs": [],
   "source": []
  }
 ],
 "metadata": {
  "kernelspec": {
   "display_name": "Python 3",
   "language": "python",
   "name": "python3"
  },
  "language_info": {
   "codemirror_mode": {
    "name": "ipython",
    "version": 3
   },
   "file_extension": ".py",
   "mimetype": "text/x-python",
   "name": "python",
   "nbconvert_exporter": "python",
   "pygments_lexer": "ipython3",
   "version": "3.8.5"
  }
 },
 "nbformat": 4,
 "nbformat_minor": 2
}
